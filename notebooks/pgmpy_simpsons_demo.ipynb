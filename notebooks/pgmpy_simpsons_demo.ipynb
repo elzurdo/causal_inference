{
 "cells": [
  {
   "cell_type": "markdown",
   "id": "auburn-philippines",
   "metadata": {},
   "source": [
    "# Simpson's Paradox\n",
    "\n",
    "\n",
    "Simpson's Paradox is a classical case of data result **misinterpretation**. \n",
    "\n",
    "It arises when the result of a population ***appears*** to be in contradiction with that of its cohorts.  \n",
    "\n",
    "If not treated correctly, this might mislead the analyst to draw the wrong conclusion.  \n",
    "\n",
    "Understanding Simpson's Paradox is a great way to dip one's toes into *Causal Inference*.  \n",
    "\n",
    "Here you will learn to resolve for Simpsons Paradox using `pgmpy` on a simulated case study.  \n",
    "\n",
    "\n",
    "**Warning**  \n",
    "Simpson's Paradox is mind bending 🤯 as it is non inuitive at first.  With that said ... it is worth the effort as it is the gateway drug to Causal Inference.  "
   ]
  },
  {
   "cell_type": "code",
   "execution_count": 1,
   "id": "existing-remainder",
   "metadata": {
    "ExecuteTime": {
     "end_time": "2021-10-12T08:34:55.216363Z",
     "start_time": "2021-10-12T08:34:52.407589Z"
    }
   },
   "outputs": [],
   "source": [
    "from pgmpy.models import BayesianNetwork\n",
    "from pgmpy.factors.discrete import TabularCPD\n",
    "from pgmpy.inference import CausalInference"
   ]
  },
  {
   "cell_type": "markdown",
   "id": "comparable-machinery",
   "metadata": {},
   "source": [
    "## Imaginary Study\n",
    "\n",
    "The premise is an imaginary, but plausible, pharma experiment on 2,000 sick patients that were equally distributed to two groups: \n",
    "* `control` - received a placebo\n",
    "* `treatment` - received a trial drug   \n",
    "\n",
    "\n",
    "The outcome is measured as binary: \n",
    "* `sick` - no change\n",
    "* `recovered` - a positive change\n",
    "\n",
    "A third parameter that is tracked is gender with values `male` and `female`. \n",
    "\n",
    "\n",
    "This a simple system of three binary variables:\n",
    "* `Group` - the treatment variable\n",
    "* `Outcome` - the target varaible \n",
    "* `Gender` - additional information\n",
    "\n",
    "\n",
    "\n",
    "\n",
    "Note: All details of the problem and solution are detailed in [this slide deck](https://docs.google.com/presentation/d/1W-D9bZ5KMyuGGm9CsSRmQIPoxiMw03HFK7Rd10og9Ps/edit#slide=id.ge338c9a319_0_31). \n"
   ]
  },
  {
   "cell_type": "markdown",
   "id": "united-values",
   "metadata": {},
   "source": [
    "In the following we examine the distribution of the Recovery Rates (target variable ) according to the treatment variable `Group` as well as the `Gender` cohorts:   \n",
    "\n",
    "\n",
    "![Screenshot 2021-10-12 at 08 42 47](https://user-images.githubusercontent.com/6064016/136913521-c389ebf5-def8-449f-95dc-9249bac6e942.png)\n",
    "\n",
    "Here we see that the \"Treatment - Control\" Recovery Rate metric of the population is appears to contradict to those of its cohorts:  \n",
    "* Total Population - `-14%`\n",
    "* Males - `+10%`\n",
    "* Females -  `+10%`\n",
    "\n",
    "\n",
    "This means that one might infer two contradicting conclusions:   \n",
    "* Conclusion 1:  The treatment has a **harmful effect** of absolute `-14%` on the whole population.  \n",
    "* Conclusion 2:  The treatment has a **beneficial effect** of absolute `+10%` of the `male` and `female` cohorts.  \n",
    "\n",
    "In other words the contradicting conclusions say that the drug is deleterious for the whole population but beneficial for the gender cohorts. \n",
    "\n",
    "\n",
    "This clearly does not make sense.  \n",
    "\n",
    "To resolve this one needs to understand how the data was collect, or the story behind the data.  "
   ]
  },
  {
   "cell_type": "markdown",
   "id": "unknown-scholar",
   "metadata": {},
   "source": [
    "## Story Behind The Data\n",
    "\n",
    "The first step in causal inference is understanding the *story behind the data*.  \n",
    "\n",
    "In detail we identify dependencies, e.g, which parameters are listening to which parameters?  \n",
    "\n",
    "* `Gender` - is independent (this medical trial is simplistic, not gender changing ...)\n",
    "* `Group` -  depends on on `Gender`.  \n",
    "* `Outcome` - the Recovery Rate depends both on `Group` and `Gender`. \n",
    "\n",
    "As we see from the numbers above the study is not a randomised control trial.  \n",
    "For some reason the males pertain 80% of the treatment group and only 20% of the control ...\n",
    "\n",
    "![Screenshot 2021-10-12 at 08 43 03](https://user-images.githubusercontent.com/6064016/136918194-bdfb3d46-2ace-4ffe-90de-2b7930e28e8a.png)\n",
    "\n",
    "The males recovery rate is also lower than that of the females (in both the `control` and `trial` groups).\n",
    "\n",
    "Hence, the reason for Simpson's Paradox in this data is two-fold:\n",
    "* The treatment varaible `Group` depends on `Gender`\n",
    "* The outcome variable `Outcome` depends on `Gender`\n",
    "\n",
    "The `Gender` parameter is a confounding factor, which means that information flows from `Group` to `Outcome` through it. To make sense of the results we need to adjust for the confounding `Gender`."
   ]
  },
  {
   "cell_type": "markdown",
   "id": "blind-hungary",
   "metadata": {},
   "source": [
    "# DAG\n",
    "\n",
    "Once we have the story behind the data, we viualise this in a Graph Model.  \n",
    "Here we choose a [Directed Acyclic_Graph (DAG)](https://en.wikipedia.org/wiki/Directed_acyclic_graph).  "
   ]
  },
  {
   "cell_type": "code",
   "execution_count": 2,
   "id": "celtic-damage",
   "metadata": {
    "ExecuteTime": {
     "end_time": "2021-10-12T08:34:55.829433Z",
     "start_time": "2021-10-12T08:34:55.218033Z"
    }
   },
   "outputs": [
    {
     "data": {
      "image/png": "[encoded data removed]",
      "text/plain": [
       "<Figure size 425.197x267.717 with 1 Axes>"
      ]
     },
     "metadata": {},
     "output_type": "display_data"
    }
   ],
   "source": [
    "z_var = \"Gender\"\n",
    "x_var = \"Group\"\n",
    "y_var = \"Outcome\" \n",
    "\n",
    "model_ = BayesianNetwork([(z_var, x_var), (x_var, y_var), (z_var, y_var)])\n",
    "model_.to_daft(node_pos={x_var: (0, 0), y_var: (2, 0), z_var: (1, 1)}).show(dpi=200)"
   ]
  },
  {
   "cell_type": "markdown",
   "id": "german-scheme",
   "metadata": {},
   "source": [
    "# Conditional Probability Distributions\n",
    "\n",
    "We first define that conditional probability distributions of the three parameters according to thier dependencies:\n",
    "\n",
    "* *Gender*: $P(\\text{Gender})$ - Gender is an independent variable\n",
    "* *Group* : $P(\\text{Group}|\\text{Gender})$ - Group depends on Gender\n",
    "* *Outcome*: $P(\\text{Outcome}| \\text{Gender}, \\text{Group})$ - Outcome depends on both"
   ]
  },
  {
   "cell_type": "markdown",
   "id": "assumed-mystery",
   "metadata": {},
   "source": [
    "\n",
    "\n",
    "$P(\\text{Gender})$ - we assume a 50-50 split between the genders.\n",
    "\n",
    "\n",
    "| Gender | $$P(\\text{Gender})$$ |\n",
    "| --- | --- |\n",
    "| Male | 0.5 |\n",
    "| Female | 0.5 |"
   ]
  },
  {
   "cell_type": "code",
   "execution_count": 3,
   "id": "optical-survivor",
   "metadata": {
    "ExecuteTime": {
     "end_time": "2021-10-12T08:34:55.834847Z",
     "start_time": "2021-10-12T08:34:55.832119Z"
    }
   },
   "outputs": [],
   "source": [
    "# Gender definitions\n",
    "\n",
    "male_frac_default = 0.5     # Gender split\n",
    "\n",
    "z_0_name = \"male\"\n",
    "z_1_name = \"female\"\n",
    "z_names = [z_0_name, z_1_name]\n",
    "\n",
    "male_frac = male_frac_default\n",
    "female_frac = 1. - male_frac\n",
    "\n",
    "z_values = [[male_frac],[female_frac]]"
   ]
  },
  {
   "cell_type": "code",
   "execution_count": 4,
   "id": "suspended-license",
   "metadata": {
    "ExecuteTime": {
     "end_time": "2021-10-12T08:34:55.840351Z",
     "start_time": "2021-10-12T08:34:55.837165Z"
    }
   },
   "outputs": [
    {
     "data": {
      "text/plain": [
       "array([0.5, 0.5])"
      ]
     },
     "execution_count": 4,
     "metadata": {},
     "output_type": "execute_result"
    }
   ],
   "source": [
    "# Conditional Probability on Z\n",
    "\n",
    "cpd_Z = TabularCPD(variable=z_var,\n",
    "                   variable_card=len(z_names),\n",
    "                   values=z_values,\n",
    "                   state_names={z_var: z_names})\n",
    "\n",
    "cpd_Z.values"
   ]
  },
  {
   "cell_type": "markdown",
   "id": "steady-steps",
   "metadata": {},
   "source": [
    "$P(\\text{Group}|\\text{Gender})$ - This is the reason for Simpson's Paradox. Group depends on Gender and hence is a confounding factor. \n",
    "\n",
    "Each column contains the 100% for each cohort.  \n",
    "\n",
    "| Group/Gender | Male|Female|\n",
    "| --- | --- | --- |\n",
    "| Control | 0.8 |0.2|\n",
    "| Treatment | 0.2 |0.8|"
   ]
  },
  {
   "cell_type": "code",
   "execution_count": 5,
   "id": "approved-addiction",
   "metadata": {
    "ExecuteTime": {
     "end_time": "2021-10-12T08:34:55.844157Z",
     "start_time": "2021-10-12T08:34:55.842052Z"
    }
   },
   "outputs": [],
   "source": [
    "x_0_name = \"control\"    # get placebo\n",
    "x_1_name = \"treatment\"  # get the drug\n",
    "x_names = [x_0_name, x_1_name]\n",
    "\n",
    "x_values = [[0.2, 0.8], [0.8, 0.2]]"
   ]
  },
  {
   "cell_type": "code",
   "execution_count": 6,
   "id": "tight-shooting",
   "metadata": {
    "ExecuteTime": {
     "end_time": "2021-10-12T08:34:55.854911Z",
     "start_time": "2021-10-12T08:34:55.845766Z"
    }
   },
   "outputs": [
    {
     "data": {
      "text/plain": [
       "array([[0.2, 0.8],\n",
       "       [0.8, 0.2]])"
      ]
     },
     "execution_count": 6,
     "metadata": {},
     "output_type": "execute_result"
    }
   ],
   "source": [
    "# Conditional Probability on X\n",
    "\n",
    "cpd_X = TabularCPD(variable=x_var,\n",
    "                   variable_card=len(x_names),\n",
    "                   values=x_values,\n",
    "                   evidence=[z_var],\n",
    "                   evidence_card=[len(z_names)],\n",
    "                   state_names={z_var: z_names, x_var:x_names})\n",
    "\n",
    "cpd_X.values"
   ]
  },
  {
   "cell_type": "markdown",
   "id": "official-antarctica",
   "metadata": {},
   "source": [
    "$P(\\text{Outcome}| \\text{Gender}, \\text{Group})$\n",
    "\n",
    "Each column contains the 100% for each cohort.  \n",
    "\n",
    "| Gender | Male|Male|Female|Female|\n",
    "| --- | --- | --- |--- | --- |\n",
    "| Outcome / Group | Control|Treatement|Control|Treatement|\n",
    "| Sick | 0.6 |0.5|0.2 |0.1|\n",
    "| Recovered | 0.4 |0.5|0.8|0.9|"
   ]
  },
  {
   "cell_type": "code",
   "execution_count": 7,
   "id": "broadband-professional",
   "metadata": {
    "ExecuteTime": {
     "end_time": "2021-10-12T08:34:55.860195Z",
     "start_time": "2021-10-12T08:34:55.856815Z"
    }
   },
   "outputs": [],
   "source": [
    "y_0_name = \"sick\"\n",
    "y_1_name = \"recovered\"\n",
    "y_names = [y_0_name, y_1_name]\n",
    "\n",
    "y_values = [[120./200, 400./800, 160./800, 20./200], [80./200, 400./800, 640./800, 180./200]]"
   ]
  },
  {
   "cell_type": "code",
   "execution_count": 8,
   "id": "collect-bridge",
   "metadata": {
    "ExecuteTime": {
     "end_time": "2021-10-12T08:34:55.868094Z",
     "start_time": "2021-10-12T08:34:55.863860Z"
    }
   },
   "outputs": [
    {
     "data": {
      "text/plain": [
       "array([[[0.6, 0.5],\n",
       "        [0.2, 0.1]],\n",
       "\n",
       "       [[0.4, 0.5],\n",
       "        [0.8, 0.9]]])"
      ]
     },
     "execution_count": 8,
     "metadata": {},
     "output_type": "execute_result"
    }
   ],
   "source": [
    "cpd_Y = TabularCPD(variable=y_var,\n",
    "                   variable_card=len(y_names),\n",
    "                   values=y_values,\n",
    "                   evidence=[z_var, x_var],\n",
    "                   evidence_card=[len(z_names), len(x_names)],\n",
    "                   state_names={z_var: z_names, x_var: x_names, y_var: y_names})\n",
    "\n",
    "cpd_Y.values"
   ]
  },
  {
   "cell_type": "code",
   "execution_count": 9,
   "id": "addressed-ending",
   "metadata": {
    "ExecuteTime": {
     "end_time": "2021-10-12T08:34:55.873016Z",
     "start_time": "2021-10-12T08:34:55.871007Z"
    }
   },
   "outputs": [],
   "source": [
    "# Adding CPDs to model\n",
    "\n",
    "model_.add_cpds(cpd_Z, cpd_X, cpd_Y)"
   ]
  },
  {
   "cell_type": "markdown",
   "id": "fatal-columbus",
   "metadata": {},
   "source": [
    "# Causal Inference\n",
    "\n",
    "We demonstrate inference in two methods:\n",
    "\n",
    "* Analytical - we use only the CPDs\n",
    "* Empirical - we solve for random data generate according to the CPDs."
   ]
  },
  {
   "cell_type": "markdown",
   "id": "negative-reaction",
   "metadata": {},
   "source": [
    "## Analytical \n",
    "Here we solve analytically directly from the CPDs. \n",
    "\n",
    "We demonstrate two use cases: \n",
    "\n",
    "* The correct method - using the Average Causal Effect (ACE; or ATE - Average Treatment Effect). This uses the *do* operator\n",
    "* The incorrect method - we demonstrate the naïve method of using conditional probabilities which results in Simpson's Paradox --> i.e, misinterpretation.  "
   ]
  },
  {
   "cell_type": "code",
   "execution_count": 10,
   "id": "eleven-leadership",
   "metadata": {
    "ExecuteTime": {
     "end_time": "2021-10-12T08:34:55.877409Z",
     "start_time": "2021-10-12T08:34:55.875072Z"
    }
   },
   "outputs": [],
   "source": [
    "inference = CausalInference(model_)"
   ]
  },
  {
   "cell_type": "markdown",
   "id": "reverse-establishment",
   "metadata": {},
   "source": [
    "### *Do* Operations\n",
    "\n",
    "The *Do* operator is used to resolve for the *Group* confounding variable: "
   ]
  },
  {
   "cell_type": "markdown",
   "id": "respiratory-acoustic",
   "metadata": {},
   "source": [
    "$$P(\\text{Outcome}|do(\\text{Group}=\\text{group_name}))$$\n",
    "\n",
    "\n",
    "Here we calculate for both `group_name` values: `control` and `treatment`: \n",
    "\n",
    "* $P(\\text{Outcome}|do(\\text{Group}=\\text{control}))$\n",
    "* $P(\\text{Outcome}|do(\\text{Group}=\\text{treatment}))$\n",
    "\n",
    "We later calculate *ACE* as the difference between the rates when *Outcome=recovered*: \n",
    "\n",
    "$$ACE = \\\\ P(\\text{Outcome=recovered}|do(\\text{Group}=\\text{treatment})) -  P(\\text{Outcome=recovered}|do(\\text{Group}=\\text{control}))$$"
   ]
  },
  {
   "cell_type": "code",
   "execution_count": 11,
   "id": "appropriate-assault",
   "metadata": {
    "ExecuteTime": {
     "end_time": "2021-10-12T08:34:55.985310Z",
     "start_time": "2021-10-12T08:34:55.879432Z"
    }
   },
   "outputs": [
    {
     "name": "stdout",
     "output_type": "stream",
     "text": [
      "control group:\t 𝑃(Outcome|𝑑𝑜(Group=control))\n"
     ]
    },
    {
     "data": {
      "application/vnd.jupyter.widget-view+json": {
       "model_id": "24754cbb5fb5401e9d85ae1ca553ba01",
       "version_major": 2,
       "version_minor": 0
      },
      "text/plain": [
       "  0%|          | 0/2 [00:00<?, ?it/s]"
      ]
     },
     "metadata": {},
     "output_type": "display_data"
    },
    {
     "name": "stdout",
     "output_type": "stream",
     "text": [
      "+--------------------+----------------+\n",
      "| Outcome            |   phi(Outcome) |\n",
      "+====================+================+\n",
      "| Outcome(sick)      |         0.4000 |\n",
      "+--------------------+----------------+\n",
      "| Outcome(recovered) |         0.6000 |\n",
      "+--------------------+----------------+\n",
      "----------------------------------------\n",
      "treatment group:\t 𝑃(Outcome|𝑑𝑜(Group=treatment))\n"
     ]
    },
    {
     "data": {
      "application/vnd.jupyter.widget-view+json": {
       "model_id": "44727ed7723b4092a64b333d3d7e80fd",
       "version_major": 2,
       "version_minor": 0
      },
      "text/plain": [
       "  0%|          | 0/2 [00:00<?, ?it/s]"
      ]
     },
     "metadata": {},
     "output_type": "display_data"
    },
    {
     "name": "stdout",
     "output_type": "stream",
     "text": [
      "+--------------------+----------------+\n",
      "| Outcome            |   phi(Outcome) |\n",
      "+====================+================+\n",
      "| Outcome(sick)      |         0.3000 |\n",
      "+--------------------+----------------+\n",
      "| Outcome(recovered) |         0.7000 |\n",
      "+--------------------+----------------+\n"
     ]
    }
   ],
   "source": [
    "print(f\"{x_0_name} group:\\t 𝑃(Outcome|𝑑𝑜(Group={x_0_name}))\")\n",
    "control_results = inference.query(variables=[y_var], do={x_var: x_0_name})\n",
    "print(control_results)\n",
    "\n",
    "print(\"-\" * 40)\n",
    "\n",
    "print(f\"{x_1_name} group:\\t 𝑃(Outcome|𝑑𝑜(Group={x_1_name}))\")\n",
    "treatment_results = inference.query(variables=[y_var], do={x_var: x_1_name})\n",
    "print(treatment_results)"
   ]
  },
  {
   "cell_type": "code",
   "execution_count": 12,
   "id": "backed-roman",
   "metadata": {
    "ExecuteTime": {
     "end_time": "2021-10-12T08:34:55.992182Z",
     "start_time": "2021-10-12T08:34:55.988068Z"
    }
   },
   "outputs": [
    {
     "name": "stdout",
     "output_type": "stream",
     "text": [
      "ACE = 0.7 - 0.6 = 10.0%\n"
     ]
    }
   ],
   "source": [
    "ACE = treatment_results.values[1] - control_results.values[1]\n",
    "print(f\"ACE = {treatment_results.values[1]:0.1f} - {control_results.values[1]:0.1f} = {ACE * 100:0.1f}%\")"
   ]
  },
  {
   "cell_type": "markdown",
   "id": "numeric-literacy",
   "metadata": {},
   "source": [
    "*... so what is the **do** operator?*\n",
    "\n",
    "Generally speaking the *do* operator ensures the *ignorability* condition for causality: it ensures that all confounding factors are taken care of.\n",
    "\n",
    "There are various conditions for which the *do* operator is useful. This is beyond the scope of this notebook, but for completeness we mention that the reader should learn about: \n",
    "\n",
    "* Backdoor Adjustment\n",
    "* Frontdoor Adjustment\n",
    "\n",
    "It is also worth mentioning that the *do* operator enables causality on the cohort level (e.g, all males within an age group of 35-45) as opposed to counterfactual which enable causality on the individual level (e.g, for your cousin who is male aged 36 years old). \n",
    "\n",
    "\n",
    "For completeness we mention that the *do* operator as used on the specific example of this notebook is the Backdoor Adjustment as defined as: \n",
    "\n",
    "\n",
    "$$P(Y=y|do(X=x)) \\equiv \\sum_zP(Y=y|X=x,Z=z)P(Z=z)$$\n",
    "\n",
    ", where\n",
    "* $Y$ is the *Outcome*\n",
    "* $X$ is the *Group* \n",
    "* $Z$ is the *Gender*\n",
    "\n",
    "Exanding this we obtain \n",
    "\n",
    "$P(Y=y|do(X=x)) =  P(Y=y|X=x,Z=z_0)P(Z=z_0) + P(Y=y|X=x,Z=z_1)P(Z=z_1)$\n",
    "\n",
    ", where \n",
    "* $z_0$ is `male` and \n",
    "* $z_1$ is `female`"
   ]
  },
  {
   "cell_type": "markdown",
   "id": "played-straight",
   "metadata": {},
   "source": [
    "### Conditional Probabilities\n",
    "An analysis that is limited to conditional probabilities without correcting for confounding varaibles results in **misinterpretation**.\n",
    " \n",
    " \n",
    " "
   ]
  },
  {
   "cell_type": "markdown",
   "id": "serial-necessity",
   "metadata": {},
   "source": [
    "$$P(\\text{Outcome}|\\text{Group}=\\text{control})$$\n",
    "\n",
    "\n",
    "Here we calculate for both `group_name` values: `control` and `treatment`: \n",
    "\n",
    "* $P(\\text{Outcome}|\\text{Group}=\\text{control})$\n",
    "* $P(\\text{Outcome}|\\text{Group}=\\text{treatment})$\n",
    "\n",
    "We later calculate the risk difference *RD* as the difference between the rates when *Outcome=recovered*: \n",
    "\n",
    "$$RD = \\\\ P(\\text{Outcome=recovered}|\\text{Group}=\\text{treatment}) -  P(\\text{Outcome=recovered}|\\text{Group}=\\text{control})$$\n",
    "\n",
    "\n",
    "Note that the next cell contains the same `query` function as before, only we replace the `do` keyword with `evidence`: "
   ]
  },
  {
   "cell_type": "code",
   "execution_count": 13,
   "id": "bridal-bishop",
   "metadata": {
    "ExecuteTime": {
     "end_time": "2021-10-12T08:34:56.013317Z",
     "start_time": "2021-10-12T08:34:55.994300Z"
    }
   },
   "outputs": [
    {
     "name": "stdout",
     "output_type": "stream",
     "text": [
      "control group:\t 𝑃(Outcome|Group=control)\n",
      "+--------------------+----------------+\n",
      "| Outcome            |   phi(Outcome) |\n",
      "+====================+================+\n",
      "| Outcome(sick)      |         0.2800 |\n",
      "+--------------------+----------------+\n",
      "| Outcome(recovered) |         0.7200 |\n",
      "+--------------------+----------------+\n",
      "----------------------------------------\n",
      "treatment group:\t 𝑃(Outcome|Group=treatment)\n",
      "+--------------------+----------------+\n",
      "| Outcome            |   phi(Outcome) |\n",
      "+====================+================+\n",
      "| Outcome(sick)      |         0.4200 |\n",
      "+--------------------+----------------+\n",
      "| Outcome(recovered) |         0.5800 |\n",
      "+--------------------+----------------+\n"
     ]
    }
   ],
   "source": [
    "print(f\"{x_0_name} group:\\t 𝑃(Outcome|Group={x_0_name})\")\n",
    "control_rd_component = inference.query(variables=[y_var], evidence={x_var: x_0_name})\n",
    "print(control_rd_component)\n",
    "\n",
    "print(\"-\" * 40)\n",
    "\n",
    "print(f\"{x_1_name} group:\\t 𝑃(Outcome|Group={x_1_name})\")\n",
    "treatment_rd_component = inference.query(variables=[y_var], evidence={x_var: x_1_name})\n",
    "print(treatment_rd_component)"
   ]
  },
  {
   "cell_type": "code",
   "execution_count": 14,
   "id": "yellow-composer",
   "metadata": {
    "ExecuteTime": {
     "end_time": "2021-10-12T08:34:56.019729Z",
     "start_time": "2021-10-12T08:34:56.014964Z"
    }
   },
   "outputs": [
    {
     "name": "stdout",
     "output_type": "stream",
     "text": [
      "population RD = 0.58 - 0.72 = -14.0%\n"
     ]
    }
   ],
   "source": [
    "RD_pop = treatment_rd_component.values[1] - control_rd_component.values[1]\n",
    "print(f\"population RD = {treatment_rd_component.values[1]:0.2f} - {control_rd_component.values[1]:0.2f} = {RD_pop * 100:0.1f}%\")"
   ]
  },
  {
   "cell_type": "markdown",
   "id": "described-steering",
   "metadata": {},
   "source": [
    "> What is the difference between a probability with a *do* operator to a conditional probability?\n",
    "\n",
    "The *do* operations manifest effects of intervention on data, by applying the story behind it.  \n",
    "E.g, in our example `Gender` is a confounding variable that we want to adjust for. \n",
    "\n",
    "We can **intervene** on a variable in a model, we fix its value and by so change the system and the values of other variables of often change as a result.\n",
    "\n",
    "When we **condition** on a variable, we change nothing. We merely narrow our focus to the subset of cases in which the variables takes the value we are interested in. What changes, then, is our perception about the world, not the world itself.\n",
    "\n",
    "$P(Y=y|X=x)$ - (conditional probability) represents the population distribution of $Y$ among a **subset** of individuals whose $X$ value is $x$.\n",
    "\n",
    "$P(Y=y|do(X=x))$ - represents the population distribution of $Y$ if **everyone** in the population had their $X$ value fixed at $x$. \n",
    "\n",
    "\n",
    "The do operation can manifests in observational data in what is called *graph surgery*.  \n",
    "I.e, we simulate for a situation where a confounding variable (e.g, `Gender`) has no impact on treatment \n",
    "variable (e.g, `Group`).  "
   ]
  },
  {
   "cell_type": "code",
   "execution_count": 15,
   "id": "august-bookmark",
   "metadata": {
    "ExecuteTime": {
     "end_time": "2021-10-12T08:34:56.200809Z",
     "start_time": "2021-10-12T08:34:56.022849Z"
    }
   },
   "outputs": [
    {
     "data": {
      "image/png": "[encoded data removed]",
      "text/plain": [
       "<Figure size 425.197x267.717 with 1 Axes>"
      ]
     },
     "metadata": {},
     "output_type": "display_data"
    }
   ],
   "source": [
    "model_after_surgery = BayesianNetwork([(x_var, y_var), (z_var, y_var)])\n",
    "model_after_surgery.to_daft(node_pos={x_var: (0, 0), y_var: (2, 0), z_var: (1, 1)}).show(dpi=200)"
   ]
  },
  {
   "cell_type": "markdown",
   "id": "breeding-crest",
   "metadata": {},
   "source": [
    "This graph illustrates this *surgery* because there is no arrow pointing from `Gender` to `Group`.  \n",
    "In other words -  \n",
    "by applying *do* operators we can simulate a randomised contrial trial condition on observational data.  \n",
    "\n",
    "The advantage of this is that observational data is much more readily available whereas randomised control trials are expensive and time consuming.  "
   ]
  },
  {
   "cell_type": "markdown",
   "id": "sonic-burton",
   "metadata": {},
   "source": [
    "*Do*-expressions and graph surgery enable us to untangle the causal relationships from the correlative, including from observational data, assuming that \n",
    "\n",
    "* the graph constitutes a valid representation of reality\n",
    "* no \"side effects\". i.e, assigning the value $x$ for the valuable $X$ for an individual does not alter subsequent variables in a direct way."
   ]
  },
  {
   "cell_type": "markdown",
   "id": "banner-consortium",
   "metadata": {},
   "source": [
    "> I'm more comfortable with conditional probabilities than *do* operators, can I still use these to get causality?\n",
    "\n",
    "Generally speaking, yes, you can, but it might be cumbersome.  \n",
    "Here we show how you can calculate the same $ACE$ using conditional probabilities, but mind that this example has only three parameters. For systems with more (most likely scenario), it might be best to use *do* operators using `pgmpy` or other software.  \n",
    "\n"
   ]
  },
  {
   "cell_type": "markdown",
   "id": "forward-television",
   "metadata": {},
   "source": [
    "To obtain $ACE$ using conditional probability distributions we need to solve for: \n",
    "\n",
    "$ACE= \\sum_{g=[\\text{male, female}]}RD_{g} P(\\text{Gender}=\\text{g}) $\n",
    "\n",
    ", where \n",
    "\n",
    "\n",
    "$RD_g = \\\\ P(\\text{Outcome=recovered}|\\text{Group}=\\text{treatment}, \\text{Gender}=\\text{g}) - \\\\  P(\\text{Outcome=recovered}|\\text{Group}=\\text{control},    \\text{Gender}=\\text{g})$\n",
    "\n"
   ]
  },
  {
   "cell_type": "code",
   "execution_count": 16,
   "id": "challenging-tunnel",
   "metadata": {
    "ExecuteTime": {
     "end_time": "2021-10-12T08:34:56.227371Z",
     "start_time": "2021-10-12T08:34:56.202831Z"
    }
   },
   "outputs": [
    {
     "name": "stdout",
     "output_type": "stream",
     "text": [
      "male control\n",
      "+--------------------+----------------+\n",
      "| Outcome            |   phi(Outcome) |\n",
      "+====================+================+\n",
      "| Outcome(sick)      |         0.6000 |\n",
      "+--------------------+----------------+\n",
      "| Outcome(recovered) |         0.4000 |\n",
      "+--------------------+----------------+\n",
      "----------------------------------------\n",
      "male treatment\n",
      "+--------------------+----------------+\n",
      "| Outcome            |   phi(Outcome) |\n",
      "+====================+================+\n",
      "| Outcome(sick)      |         0.5000 |\n",
      "+--------------------+----------------+\n",
      "| Outcome(recovered) |         0.5000 |\n",
      "+--------------------+----------------+\n",
      "Male RD = 0.50 - 0.40 = 10.0%\n"
     ]
    }
   ],
   "source": [
    "print(f\"{z_0_name} {x_0_name}\")\n",
    "male_control = inference.query(variables=[y_var], evidence={x_var: x_0_name, z_var: z_0_name})\n",
    "print(male_control)\n",
    "\n",
    "print(\"-\" * 40)\n",
    "\n",
    "print(f\"{z_0_name} {x_1_name}\")\n",
    "male_treatment = inference.query(variables=[y_var], evidence={x_var: x_1_name, z_var: z_0_name})\n",
    "print(male_treatment)\n",
    "\n",
    "\n",
    "male_rd = male_treatment.values[1] - male_control.values[1]\n",
    "print(f\"Male RD = {male_treatment.values[1]:0.2f} - {male_control.values[1]:0.2f} = {male_rd * 100.:0.1f}%\")"
   ]
  },
  {
   "cell_type": "code",
   "execution_count": 17,
   "id": "ambient-worcester",
   "metadata": {
    "ExecuteTime": {
     "end_time": "2021-10-12T08:34:56.250290Z",
     "start_time": "2021-10-12T08:34:56.229668Z"
    }
   },
   "outputs": [
    {
     "name": "stdout",
     "output_type": "stream",
     "text": [
      "female control\n",
      "+--------------------+----------------+\n",
      "| Outcome            |   phi(Outcome) |\n",
      "+====================+================+\n",
      "| Outcome(sick)      |         0.2000 |\n",
      "+--------------------+----------------+\n",
      "| Outcome(recovered) |         0.8000 |\n",
      "+--------------------+----------------+\n",
      "----------------------------------------\n",
      "female treatment\n",
      "+--------------------+----------------+\n",
      "| Outcome            |   phi(Outcome) |\n",
      "+====================+================+\n",
      "| Outcome(sick)      |         0.1000 |\n",
      "+--------------------+----------------+\n",
      "| Outcome(recovered) |         0.9000 |\n",
      "+--------------------+----------------+\n",
      "Female RD = 0.90 - 0.80 = 10.0%\n"
     ]
    }
   ],
   "source": [
    "print(f\"{z_1_name} {x_0_name}\")\n",
    "female_control = inference.query(variables=[y_var], evidence={x_var: x_0_name, z_var: z_1_name})\n",
    "print(female_control)\n",
    "\n",
    "print(\"-\" * 40)\n",
    "\n",
    "print(f\"{z_1_name} {x_1_name}\")\n",
    "female_treatment = inference.query(variables=[y_var], evidence={x_var: x_1_name, z_var: z_1_name})\n",
    "print(female_treatment)\n",
    "\n",
    "female_rd = female_treatment.values[1] - female_control.values[1]\n",
    "print(f\"Female RD = {female_treatment.values[1]:0.2f} - {female_control.values[1]:0.2f} = {female_rd * 100.:0.1f}%\")"
   ]
  },
  {
   "cell_type": "code",
   "execution_count": 18,
   "id": "celtic-engineer",
   "metadata": {
    "ExecuteTime": {
     "end_time": "2021-10-12T08:34:56.255467Z",
     "start_time": "2021-10-12T08:34:56.252571Z"
    }
   },
   "outputs": [
    {
     "name": "stdout",
     "output_type": "stream",
     "text": [
      "+----------------+-----+\n",
      "| Gender(male)   | 0.5 |\n",
      "+----------------+-----+\n",
      "| Gender(female) | 0.5 |\n",
      "+----------------+-----+\n"
     ]
    }
   ],
   "source": [
    "print(cpd_Z)"
   ]
  },
  {
   "cell_type": "code",
   "execution_count": 19,
   "id": "caring-multiple",
   "metadata": {
    "ExecuteTime": {
     "end_time": "2021-10-12T08:34:56.264980Z",
     "start_time": "2021-10-12T08:34:56.257372Z"
    }
   },
   "outputs": [
    {
     "name": "stdout",
     "output_type": "stream",
     "text": [
      "ACE (from conditaionals):\n",
      "= 0.10*0.50 + 0.10*0.50\n",
      "= 10.0%\n"
     ]
    }
   ],
   "source": [
    "ACE_from_conditionals = male_rd * cpd_Z.values[0] + female_rd * cpd_Z.values[1] \n",
    "\n",
    "print(f\"ACE (from conditaionals):\\n= {male_rd:0.2f}*{cpd_Z.values[0]:0.2f} + {female_rd:0.2f}*{cpd_Z.values[1]:0.2f}\\n= {100.*ACE_from_conditionals:0.1f}%\") "
   ]
  },
  {
   "cell_type": "markdown",
   "id": "mineral-employer",
   "metadata": {},
   "source": [
    "## Simulated Data\n",
    "\n",
    "Above we assumed that the conditional probability distributions are statistically significant. In reality, however, we would like to test this with empirical data (or simulated).\n",
    "\n",
    "\n",
    "In the following we use the CPDs to generate simulated data to demonstrate how `pgmpy` can calculate the *ACE*. "
   ]
  },
  {
   "cell_type": "code",
   "execution_count": 20,
   "id": "mounted-economy",
   "metadata": {
    "ExecuteTime": {
     "end_time": "2021-10-12T08:34:56.271357Z",
     "start_time": "2021-10-12T08:34:56.268257Z"
    }
   },
   "outputs": [],
   "source": [
    "import numpy as np\n",
    "import pandas as pd"
   ]
  },
  {
   "cell_type": "code",
   "execution_count": 21,
   "id": "romantic-shipping",
   "metadata": {
    "ExecuteTime": {
     "end_time": "2021-10-12T08:34:56.294914Z",
     "start_time": "2021-10-12T08:34:56.273547Z"
    }
   },
   "outputs": [
    {
     "data": {
      "text/plain": [
       "1    0.5002\n",
       "0    0.4998\n",
       "dtype: float64"
      ]
     },
     "execution_count": 21,
     "metadata": {},
     "output_type": "execute_result"
    }
   ],
   "source": [
    "n_population = 100000 #below 100000 examples we find at least a few percent differences in the simulated CPD from the expected, which might cause the ACE to be off\n",
    "\n",
    "zs = np.random.choice([0,1], n_population, p=np.array(z_values).reshape([2]))\n",
    "\n",
    "pd.Series(zs).value_counts(normalize=True)"
   ]
  },
  {
   "cell_type": "code",
   "execution_count": 22,
   "id": "consecutive-judge",
   "metadata": {
    "ExecuteTime": {
     "end_time": "2021-10-12T08:34:59.134158Z",
     "start_time": "2021-10-12T08:34:56.296759Z"
    }
   },
   "outputs": [
    {
     "data": {
      "text/plain": [
       "0    0.50007\n",
       "1    0.49993\n",
       "dtype: float64"
      ]
     },
     "execution_count": 22,
     "metadata": {},
     "output_type": "execute_result"
    }
   ],
   "source": [
    "xs = []\n",
    "for iz, z in enumerate(zs):\n",
    "    p_x = x_values[z]\n",
    "    xs.append(np.random.choice([0,1], 1, p=p_x)[0])\n",
    "\n",
    "pd.Series(xs).value_counts(normalize=True)    "
   ]
  },
  {
   "cell_type": "code",
   "execution_count": 23,
   "id": "beautiful-banner",
   "metadata": {
    "ExecuteTime": {
     "end_time": "2021-10-12T08:35:02.177562Z",
     "start_time": "2021-10-12T08:34:59.139537Z"
    }
   },
   "outputs": [
    {
     "data": {
      "text/plain": [
       "1    0.64719\n",
       "0    0.35281\n",
       "dtype: float64"
      ]
     },
     "execution_count": 23,
     "metadata": {},
     "output_type": "execute_result"
    }
   ],
   "source": [
    "ys = []\n",
    "for z, x in zip(zs, xs):\n",
    "    p_y = y_values[0][z * 2 + x]\n",
    "    ys.append(np.random.choice([0,1], 1, p=[p_y, 1.-p_y])[0])\n",
    "\n",
    "pd.Series(ys).value_counts(normalize=True)    "
   ]
  },
  {
   "cell_type": "code",
   "execution_count": 24,
   "id": "hybrid-vanilla",
   "metadata": {
    "ExecuteTime": {
     "end_time": "2021-10-12T08:35:02.240475Z",
     "start_time": "2021-10-12T08:35:02.180164Z"
    }
   },
   "outputs": [
    {
     "data": {
      "text/html": [
       "<div>\n",
       "<style scoped>\n",
       "    .dataframe tbody tr th:only-of-type {\n",
       "        vertical-align: middle;\n",
       "    }\n",
       "\n",
       "    .dataframe tbody tr th {\n",
       "        vertical-align: top;\n",
       "    }\n",
       "\n",
       "    .dataframe thead th {\n",
       "        text-align: right;\n",
       "    }\n",
       "</style>\n",
       "<table border=\"1\" class=\"dataframe\">\n",
       "  <thead>\n",
       "    <tr style=\"text-align: right;\">\n",
       "      <th></th>\n",
       "      <th>Gender</th>\n",
       "      <th>Group</th>\n",
       "      <th>Outcome</th>\n",
       "    </tr>\n",
       "  </thead>\n",
       "  <tbody>\n",
       "    <tr>\n",
       "      <th>0</th>\n",
       "      <td>1</td>\n",
       "      <td>0</td>\n",
       "      <td>1</td>\n",
       "    </tr>\n",
       "    <tr>\n",
       "      <th>1</th>\n",
       "      <td>1</td>\n",
       "      <td>0</td>\n",
       "      <td>0</td>\n",
       "    </tr>\n",
       "    <tr>\n",
       "      <th>2</th>\n",
       "      <td>1</td>\n",
       "      <td>0</td>\n",
       "      <td>1</td>\n",
       "    </tr>\n",
       "    <tr>\n",
       "      <th>3</th>\n",
       "      <td>0</td>\n",
       "      <td>1</td>\n",
       "      <td>0</td>\n",
       "    </tr>\n",
       "    <tr>\n",
       "      <th>4</th>\n",
       "      <td>0</td>\n",
       "      <td>1</td>\n",
       "      <td>1</td>\n",
       "    </tr>\n",
       "    <tr>\n",
       "      <th>5</th>\n",
       "      <td>0</td>\n",
       "      <td>1</td>\n",
       "      <td>1</td>\n",
       "    </tr>\n",
       "  </tbody>\n",
       "</table>\n",
       "</div>"
      ],
      "text/plain": [
       "   Gender  Group  Outcome\n",
       "0       1      0        1\n",
       "1       1      0        0\n",
       "2       1      0        1\n",
       "3       0      1        0\n",
       "4       0      1        1\n",
       "5       0      1        1"
      ]
     },
     "execution_count": 24,
     "metadata": {},
     "output_type": "execute_result"
    }
   ],
   "source": [
    "data = pd.DataFrame({z_var: zs, x_var: xs, y_var: ys})\n",
    "\n",
    "data.head(6)"
   ]
  },
  {
   "cell_type": "code",
   "execution_count": 26,
   "id": "successful-commissioner",
   "metadata": {
    "ExecuteTime": {
     "end_time": "2021-10-12T08:35:21.373870Z",
     "start_time": "2021-10-12T08:35:21.341693Z"
    },
    "lines_to_next_cell": 2
   },
   "outputs": [
    {
     "name": "stdout",
     "output_type": "stream",
     "text": [
      "0    0.6\n",
      "1    0.4\n",
      "dtype: float64\n",
      "0    0.611508\n",
      "1    0.388492\n",
      "Name: Outcome, dtype: float64\n",
      "difference -2.9%\n",
      "--------------------\n",
      "0    0.5\n",
      "1    0.5\n",
      "dtype: float64\n",
      "0    0.501961\n",
      "1    0.498039\n",
      "Name: Outcome, dtype: float64\n",
      "difference -0.4%\n",
      "--------------------\n",
      "0    0.2\n",
      "1    0.8\n",
      "dtype: float64\n",
      "0    0.201967\n",
      "1    0.798033\n",
      "Name: Outcome, dtype: float64\n",
      "difference -0.2%\n",
      "--------------------\n",
      "0    0.1\n",
      "1    0.9\n",
      "dtype: float64\n",
      "0    0.101668\n",
      "1    0.898332\n",
      "Name: Outcome, dtype: float64\n",
      "difference -0.2%\n",
      "--------------------\n"
     ]
    }
   ],
   "source": [
    "for gender in [0, 1]:\n",
    "    for group in [0, 1]:\n",
    "        cpd_y_expected = pd.Series(cpd_Y.values.T[group][gender])\n",
    "        cpd_y_simulated = data.query(f\"Gender == {gender} & Group == {group}\")[\"Outcome\"].value_counts(normalize=True)[[0, 1]]\n",
    "        \n",
    "        diff = (cpd_y_simulated[1] - cpd_y_expected[1]) / cpd_y_expected[1]\n",
    "        \n",
    "        print(cpd_y_expected)\n",
    "        print(cpd_y_simulated)\n",
    "        print(f\"difference {diff * 100.:0.1f}%\")\n",
    "        \n",
    "        print(\"-\" * 20)\n",
    "        \n",
    "        "
   ]
  },
  {
   "cell_type": "code",
   "execution_count": 27,
   "id": "going-evidence",
   "metadata": {
    "ExecuteTime": {
     "end_time": "2021-10-12T08:35:24.021738Z",
     "start_time": "2021-10-12T08:35:23.993163Z"
    }
   },
   "outputs": [
    {
     "name": "stdout",
     "output_type": "stream",
     "text": [
      "ACE = 10.5%\n"
     ]
    }
   ],
   "source": [
    "# ACE - Average Causal Effect; \n",
    "# ATE - Averge Treatment Effect\n",
    "\n",
    "ace_simulated = inference.estimate_ate(x_var, y_var, data=data, estimator_type=\"linear\")\n",
    "\n",
    "print(f\"ACE = {ace_simulated * 100:0.1f}%\")"
   ]
  },
  {
   "cell_type": "markdown",
   "id": "unsigned-bulletin",
   "metadata": {},
   "source": [
    "# Final Notes\n",
    "\n",
    "Being Confused at this Stage is O.K. 🤯   \n",
    "\n",
    "\n",
    "![Homer](https://media.giphy.com/media/3o6MbbwX2g2GA4MUus/giphy.gif \"homer\")\n",
    "\n",
    "\n",
    "Credit: this giphy is pulled from [Giphy.com](https://giphy.com/gifs/season-3-the-simpsons-3x5-3o6MbbwX2g2GA4MUus)."
   ]
  },
  {
   "cell_type": "markdown",
   "id": "invalid-dependence",
   "metadata": {},
   "source": [
    "## Lord's Paradox\n",
    "\n",
    "Here we used binary data for all three parameters.  \n",
    "\n",
    "Simpson's Paradox also arises for the case of continuous variables,  \n",
    "which happens to known under the name *Lord's Paradox*.  \n",
    "\n",
    "The following two illustrations help to gain an intuition.  \n",
    "\n",
    "Imagine that the treatment variable is continuous (e.g, medicine in milligrams) as it the outcome (health score). \n",
    "\n",
    "<img src=\"https://user-images.githubusercontent.com/6064016/136919659-6bef4e4c-9397-42cf-84a4-aaa15c35f6b6.png\" width = 300 />\n",
    "\n",
    "\n",
    "The figure above shows that there appears to be a positive correlation between the two (red line). \n",
    "\n",
    "In the next figure we display the same imaginary (but plausible) data where we color code by the cohort (men, boys, girls and women): \n",
    "\n",
    "<img src=\"https://user-images.githubusercontent.com/6064016/136920301-5043296f-da85-4bff-9f6a-95439f27df30.png\" width = 300 />\n",
    "\n",
    "We now see that for all the cohorts the treatment is deleterious on the outcome (anti-correlation). \n",
    "\n",
    "Credit: this image was modified from the original version from [@infowetrust](https://infowetrust.com/)."
   ]
  },
  {
   "cell_type": "markdown",
   "id": "mounted-fishing",
   "metadata": {},
   "source": [
    "## Mastering Simpson's Paradox \n",
    "\n",
    "\n",
    "Hopefully you have gained an appreciation for the importance of the paradox and how it may be avoided.  \n",
    "\n",
    "Mastering Simpson's Paradox is crucial for adding Causal Inference to one's toolbox.\n",
    "\n",
    "\n",
    "To do so I can suggest:\n",
    "\n",
    "* [Simpson's Calculator](https://bit.ly/simpson-calculator) - an interactive demo of this setup to play with values to gain an intuition. \n",
    "* [Dagitty (dagitty.net)](http://dagitty.net/) - an interactive R web/desktop platform for causal inference in DAGs.\n",
    "* [A Primer in Causal Inference](http://bayes.cs.ucla.edu/PRIMER/) - Judea Pearl's text book with excellent guiding exercizes to practice Simpson's Paradox.  "
   ]
  },
  {
   "cell_type": "markdown",
   "id": "fossil-cabin",
   "metadata": {},
   "source": [
    "# Resources\n",
    "\n",
    "* `pgmpy` algorithms based on [Causal Inference Tutorial](https://pgmpy.org/examples/Causal%20Inference.html).\n",
    "\n",
    "* Simpson's Paradox values - based on [presentation example](https://docs.google.com/presentation/d/1W-D9bZ5KMyuGGm9CsSRmQIPoxiMw03HFK7Rd10og9Ps/edit#slide=id.ge338c9a319_0_31).\n",
    "\n",
    "* [Simpson's Calculator](https://bit.ly/simpson-calculator) - an interactive demo"
   ]
  },
  {
   "cell_type": "markdown",
   "id": "established-bolivia",
   "metadata": {},
   "source": [
    "<img src=\"http://www.theagitator.net/wp-content/uploads/simpsonsparadox-470x363.jpg\" />\n",
    "\n",
    "Credit: This image is pulled from [The Agitator.net](http://www.theagitator.net/wp-content/uploads/simpsonsparadox-470x363.jpg)"
   ]
  }
 ],
 "metadata": {
  "jupytext": {
   "cell_metadata_filter": "-all",
   "encoding": "# -*- coding: utf-8 -*-",
   "main_language": "python",
   "notebook_metadata_filter": "-all"
  },
  "kernelspec": {
   "display_name": "Python 3",
   "language": "python",
   "name": "python3"
  },
  "language_info": {
   "codemirror_mode": {
    "name": "ipython",
    "version": 3
   },
   "file_extension": ".py",
   "mimetype": "text/x-python",
   "name": "python",
   "nbconvert_exporter": "python",
   "pygments_lexer": "ipython3",
   "version": "3.8.6"
  },
  "toc": {
   "base_numbering": 1,
   "nav_menu": {},
   "number_sections": true,
   "sideBar": true,
   "skip_h1_title": false,
   "title_cell": "Table of Contents",
   "title_sidebar": "Contents",
   "toc_cell": false,
   "toc_position": {},
   "toc_section_display": true,
   "toc_window_display": false
  }
 },
 "nbformat": 4,
 "nbformat_minor": 5
}
