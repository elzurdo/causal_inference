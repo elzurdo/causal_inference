{
 "cells": [
  {
   "cell_type": "code",
   "execution_count": null,
   "id": "binary-mustang",
   "metadata": {},
   "outputs": [],
   "source": [
    "import pandas as pd"
   ]
  },
  {
   "cell_type": "markdown",
   "id": "split-brain",
   "metadata": {},
   "source": [
    "# Study question 1.3.2: Genders in High School\n",
    "\n",
    "> *Consider Table 1.5 showing the relationship between gender and education level in the U.S. adult population.     \n",
    "(a) Estimate $P($High School$)$.    \n",
    "(b) Estimate P(High School OR Female).    \n",
    "(c) EstimateP(HighSchool|Female).     \n",
    "(d) Estimate P(Female | High School).* "
   ]
  },
  {
   "cell_type": "code",
   "execution_count": null,
   "id": "banner-international",
   "metadata": {},
   "outputs": [],
   "source": [
    "df = \\\n",
    "pd.DataFrame({'gender': (['male'] * 4) + (['female'] * 4), \n",
    "              'highest': ['never', 'high school', 'college', 'graduate'] * 2,\n",
    "              'occurence': [112, 231, 595, 242, 136,189,763,172]\n",
    "             })\n",
    "\n",
    "total = df[\"occurence\"].sum()\n",
    "\n",
    "df"
   ]
  },
  {
   "cell_type": "code",
   "execution_count": null,
   "id": "narrative-documentation",
   "metadata": {},
   "outputs": [],
   "source": [
    "# P(Highschool)\n",
    "\n",
    "highest = \"high school\"\n",
    "df.query(\"highest == @highest\")[\"occurence\"].sum() / df[\"occurence\"].sum()"
   ]
  },
  {
   "cell_type": "markdown",
   "id": "relevant-roommate",
   "metadata": {},
   "source": [
    "$$P(A \\ \\text{OR} \\  B) = P(A) + P(B) - P(A,B)$$"
   ]
  },
  {
   "cell_type": "code",
   "execution_count": null,
   "id": "dramatic-tourist",
   "metadata": {},
   "outputs": [],
   "source": [
    "# P(High School OR Female)\n",
    "\n",
    "highest1 = \"high school\"\n",
    "gender = \"female\"\n",
    "df.query(\"(highest == @highest) | (gender == @gender)\")[\"occurence\"].sum() / total"
   ]
  },
  {
   "cell_type": "code",
   "execution_count": null,
   "id": "biological-latex",
   "metadata": {},
   "outputs": [],
   "source": [
    "# P(High School) + P(Female) - P(High School, Female)\n",
    "p_hs = df.query(\"(highest == @highest)\")[\"occurence\"].sum() / total\n",
    "p_fm = df.query(\"(gender == @gender)\")[\"occurence\"].sum()  / total\n",
    "p_hs_fm = df.query(\"(highest == @highest) & (gender == @gender)\")[\"occurence\"].sum() / total\n",
    "\n",
    "p_hs + p_fm - p_hs_fm"
   ]
  },
  {
   "cell_type": "code",
   "execution_count": null,
   "id": "social-going",
   "metadata": {},
   "outputs": [],
   "source": [
    "# P(Female | High School)\n",
    "\n",
    "df.query(\"(highest == @highest) & (gender == @gender)\")[\"occurence\"].sum() / df.query(\"(gender == @gender)\")[\"occurence\"].sum()"
   ]
  },
  {
   "cell_type": "code",
   "execution_count": null,
   "id": "compliant-chamber",
   "metadata": {
    "lines_to_next_cell": 2
   },
   "outputs": [],
   "source": [
    "# P(HighSchool|Female)\n",
    "df.query(\"(highest == @highest) & (gender == @gender)\")[\"occurence\"].sum() / df.query(\"(highest == @highest)\")[\"occurence\"].sum()"
   ]
  },
  {
   "cell_type": "markdown",
   "id": "breathing-spiritual",
   "metadata": {},
   "source": [
    "# Study question 1.3.3\n",
    "> *Consider the casino problem described in Section 1.3.7* \n",
    "\n",
    "$P(11|craps) = \\frac{1}{18}$  \n",
    "$P(11|roulette) = \\frac{1}{38}$\n",
    "\n",
    "$$P(number) = \\sum_{game} P(number|game)P(game) $$\n",
    "\n",
    "$$P(game|number) = \\frac{P(number|game)P(game)}{P(number)}$$\n",
    "\n",
    "\n",
    "> (a) Compute $P(“craps”|“11”)$ assuming that there are twice as many roulette tables as craps games at the casino.\n",
    "\n",
    "\n",
    "$P(roulette) = 2 P(craps)$  \n",
    "$P(roulette) + P(craps) = 1$  \n",
    "$\\rightarrow P(roulette) = \\frac{2}{3}, P(craps) = \\frac{1}{3}$\n",
    "\n",
    "\n",
    "$$P(11) = P(11|craps)P(craps) + P(11|roulette)P(roulette) = 1/18 \\cdot 1/3 + 1/38 \\cdot 2/3 = 0.036$$\n",
    "\n",
    "$$P(craps|11) = \\frac{P(11|craps)P(craps)}{P(11)} = \\frac{1/18 \\cdot 1/3}{1/18 \\cdot 1/3 + 1/38 \\cdot 2/3 } = 0.5135 $$"
   ]
  },
  {
   "cell_type": "code",
   "execution_count": null,
   "id": "prescription-cardiff",
   "metadata": {},
   "outputs": [],
   "source": [
    "(1/18 * 1/3)/(1/18 * 1/3 + 1/38 * 2/3)"
   ]
  },
  {
   "cell_type": "markdown",
   "id": "under-subscription",
   "metadata": {},
   "source": [
    "> (b) Compute P(“roulette”|“10”) assuming that there are twice as many craps games as roulette tables at the casino.\n"
   ]
  },
  {
   "cell_type": "code",
   "execution_count": null,
   "id": "casual-praise",
   "metadata": {},
   "outputs": [],
   "source": []
  },
  {
   "cell_type": "markdown",
   "id": "stunning-turner",
   "metadata": {},
   "source": [
    "# Study question 1.3.4\n",
    "> *Suppose we have three cards. Card 1 has two black faces, one on each side; Card 2 has two white faces; and Card 3 has one white face and one back face. You select a card at random and place it on the table. You find that it is black on the face-up side. What is the probability that the face-down side of the card is also black?*\n",
    "\n",
    "\n",
    "> *(a) Use your intuition to argue that the probability that the face-down side of the card is also\n",
    " black is 0.5 .*\n",
    "\n",
    "\n",
    "$c_1: \\ bb$  \n",
    "$c_2: \\ ww$  \n",
    "$c_3: \\ wb$  \n",
    "\n",
    "Intuition says that if the down facing is black, that means that we are down to two cards, $c_1$ and $c_3$. Given two cards we could argue that each has 50% to be the card. If it is $c_1$ then the results of down will be $b$ and if $c_3$ it will be $w$.   \n",
    "\n",
    "> *Why might it be greater than 0.5 ?*\n",
    "\n",
    "Perhaps we need to consider the fact that $c_1$ should get more weight considering it had to defeat $c_2$ to have black been showed up.  \n",
    "\n",
    "Using the 100 doors Monty Hall analogy, if we change the questions slightly to have a scenario  \n",
    "\n",
    "$c_A: \\ bb$  \n",
    "$c_B: \\ ww$  \n",
    "$c_C: \\ ww$  \n",
    "$c_D: \\ ww$  \n",
    "$c_E: \\ ww$  \n",
    "...  \n",
    "$c_Y: \\ ww$  \n",
    "$c_Z: \\ wb$,  \n",
    "our intuition now dictates to favour $c_A$ over $c_Z$.   \n",
    "\n",
    "> (b) *Express the probabilities and conditional probabilities that you find easy to estimate (for example, P(CD = Black)), in terms of the following variables:\n",
    "I = Identity of the card selected (Card 1, Card 2, or Card 3) CD = Color of the face-down side (Black, White)\n",
    "CU = Color of the face-up side (Black, White)\n",
    "Find the probability that the face-down side of the selected card is black, using your estimates above.*   \n",
    "\n",
    "I use slightly different notation.   \n",
    "\n",
    "$P(\\text{card}_i) = \\frac{1}{3} = P(c_1), P(c_2), P(c_3)$  \n",
    "\n",
    "$P(up=b)=P(down=b) = \\sum_{c_i}P(up=b|c_i)P(c_i) =\\\\ P(up=b|c_1)P(c_1) + P(up=b|c_2)P(c_2) + P(up=b|c_3)P(c_3)=\\\\ 1 * \\frac{1}{3} + \\frac{1}{2} * \\frac{1}{3} = \\frac{1}{2}$\n",
    "\n",
    "\n",
    "$$P(down=b|up=b)= P(bb | up=b) = P(c_1|up=b)=$$  \n",
    "$$\\frac{P(up=b|c_1)P(c_1)}{P(up=b)} = \\\\ \\frac{1 \\times 1/3}{1/2} = \\frac{2}{3}$$"
   ]
  },
  {
   "cell_type": "markdown",
   "id": "forbidden-blink",
   "metadata": {},
   "source": [
    "I also tried this approach, but it is trivial since $P(up=b)=P(down=b)\\equiv Y$:  \n",
    "\n",
    "$$P(down=b|up=b) = \\frac{P(up=b|down=b)P(down=b)}{P(up=b)}$$  \n",
    " \n",
    "$$\\rightarrow X = \\frac{X Y}{Y}$$\n",
    "\n"
   ]
  },
  {
   "cell_type": "markdown",
   "id": "technological-dominican",
   "metadata": {},
   "source": [
    "> (c) *Use Bayes’ theorem to find the correct probability of a randomly selected card’s back\n",
    "being black if you observe that its front is black?*\n",
    "\n"
   ]
  },
  {
   "cell_type": "code",
   "execution_count": null,
   "id": "through-founder",
   "metadata": {
    "lines_to_next_cell": 2
   },
   "outputs": [],
   "source": []
  },
  {
   "cell_type": "markdown",
   "id": "sporting-sunglasses",
   "metadata": {},
   "source": [
    "# Study question 1.3.5: Monty Hall Switch Bayes Benefit Proof\n",
    "Monty Hall\n",
    "\n",
    "> *Prove, using Bayes’ theorem, that switching doors improves your chances of winning the car in the Monty Hall problem.*\n",
    "\n",
    "The clue is in page W.  \n",
    "\n",
    "$X$ - the chosen door  \n",
    "$Y$ - the door with the car  \n",
    "$Z$ - the door opened by the host   \n",
    "\n",
    "Without loss of generality, we need to solve for   \n",
    "$$P(Y=B| X=A, Z=C) > P(Y=A| X=A, Z=C)$$  \n",
    "\n",
    "Using Bayes' Theorem  \n",
    "\n",
    "$P(Y=B| X=A, Z=C) = \\frac{P(X=A, Z=C | Y=B)P(Y=B)}{P(X=A, Z=C)}$    \n",
    "$P(Y=A| X=A, Z=C) = \\frac{P(X=A, Z=C | Y=A)P(Y=A)}{P(X=A, Z=C)}$   \n",
    "\n",
    "Most comonents here are equal so we need to prove:  \n",
    "$$P(X=A, Z=C | Y=B) > P(X=A, Z=C | Y=A)$$ \n",
    "\n",
    "In the case where $Y=B$, the host has only one choice.  \n",
    "In the case where $Y=A$, the host has two choices.   \n",
    "\n",
    "$$P(X=A, Z=C | Y=B) = 2 \\times P(X=A, Z=C | Y=A)$$ "
   ]
  },
  {
   "cell_type": "code",
   "execution_count": null,
   "id": "unique-signature",
   "metadata": {},
   "outputs": [],
   "source": []
  },
  {
   "cell_type": "markdown",
   "id": "equipped-belize",
   "metadata": {},
   "source": [
    "# Study question 1.3.6\n",
    "> (a) *Prove that, in general, both $𝜎_{XY}$ and $𝜌_{XY}$ vanish when $X$ and $Y$ are independent. [Hint: Use Eqs. (1.16) and (1.17).]*\n",
    "\n",
    "$X \\perp \\!\\!\\! \\perp Y \\rightarrow E(X,Y) = E(X)E(Y)$  \n",
    "So if \n",
    "$$\\sigma_{XY} \\equiv E[(X-E(X))(Y-E(Y))]$$  \n",
    "then   \n",
    "$\\sigma_{X \\perp \\!\\! \\perp Y} = E[X \\cdot Y - X\\cdot E(Y) - Y\\cdot E(X) + E(X)E(Y)]= \\\\ E(X)E(Y) - E(X)E(Y) - E(X)E(Y) + E(X)E(Y) = 0$"
   ]
  },
  {
   "cell_type": "markdown",
   "id": "genetic-circulation",
   "metadata": {},
   "source": [
    "> (b) *Give an example of two variables that are highly dependent and, yet, their correlation coefficient vanishes.*\n",
    "\n"
   ]
  },
  {
   "cell_type": "code",
   "execution_count": null,
   "id": "utility-skating",
   "metadata": {},
   "outputs": [],
   "source": []
  },
  {
   "cell_type": "markdown",
   "id": "renewable-allen",
   "metadata": {},
   "source": [
    "# Study question 1.3.7\n",
    "> *Two fair coins are flipped simultaneously to determine the payoffs of two players in the town’s casino. Player 1 wins a dollar if and only if at least one coin lands on head. Player 2 receives a dollar if and only if the two coins land on the same face. Let $X$ stand for the payoff of Player 1 and $Y$ for the payoff of Player 2.*\n",
    "\n",
    "> (a) *Find and describe the probability distributions $P(x), \\ P(y), \\ P(x,y), \\ P(y|x), \\ P(x|y)$*\n",
    "\n",
    "Assuming Heads=1, Tails=0:  \n",
    "\n",
    "| A | B | X | Y |\n",
    "| --- | --- | --- | --- |\n",
    "|0|0| 0| 1\n",
    "|0|1| 1| 0\n",
    "|1|0| 1|0\n",
    "|1|1|1| 1\n",
    "\n",
    "Here we see that   \n",
    "$X = A \\text{ OR } B$   \n",
    "$Y = A \\text{ XNOR } B \\equiv A\\cdot B + \\bar{A}\\cdot\\bar{B}$  \n",
    "\n",
    "|$X$|$P(X)$|\n",
    "| --- | --- |\n",
    "|$0$|$\\frac{1}{4}$\n",
    "|$1$|$\\frac{3}{4}$\n",
    "\n",
    "|$Y$|$P(Y)$|\n",
    "| --- | --- |\n",
    "|$0$|$\\frac{1}{2}$\n",
    "|$1$|$\\frac{1}{2}$\n",
    "\n",
    "|$X$|$Y$| $P(X,Y)$|\n",
    "| --- | --- | --- |\n",
    "|$0$|$0$|$0$\n",
    "|$0$|$1$|$\\frac{1}{4}$\n",
    "|$1$|$0$|$\\frac{1}{2}$\n",
    "|$1$|$1$|$\\frac{1}{4}$\n",
    "\n",
    "\n",
    "|$X$|$Y$| $P(Y|X)$|\n",
    "| --- | --- | --- |\n",
    "|$0$|$0$|$0$\n",
    "|$0$|$1$|$1$\n",
    "|$1$|$0$|$\\frac{2}{3}$\n",
    "|$1$|$1$|$\\frac{1}{3}$\n",
    "\n",
    "Note that for $P(Y|X)$ the normalisation is at fixed $X$, i.e,    \n",
    "$P(Y=0|X=0) + P(Y=1|X=0) = 1$ and  \n",
    "$P(Y=0|X=1) + P(Y=1|X=1) = 1$\n",
    "\n",
    "|$X$|$Y$| $P(X|Y)$|\n",
    "| --- | --- | --- |\n",
    "|$0$|$0$|$0$\n",
    "|$0$|$1$|$\\frac{1}{2}$\n",
    "|$1$|$0$|$1$\n",
    "|$1$|$1$|$\\frac{1}{2}$  \n",
    "\n",
    "Note that for $P(X|Y)$ the normalisation is at fixed $Y$, i.e,    \n",
    "$P(X=0|Y=0) + P(X=1|Y=0) = 1$ and  \n",
    "$P(X=0|Y=1) + P(X=1|Y=1) = 1$"
   ]
  },
  {
   "cell_type": "markdown",
   "id": "differential-hundred",
   "metadata": {},
   "source": [
    "> (b) *Using the descriptions in (a), compute the following measures:* \n",
    "\n",
    "$E[X] = \\sum_{x=0,1} X P(X) = 1 \\cdot P(x=1) = \\frac{3}{4}$  \n",
    "$E[Y] = \\sum_{y=0,1} Y P(Y) = 1 \\cdot P(y=1) = \\frac{1}{2}$\n",
    "\n",
    "$E[Y|x=0] = \\sum_{y=0,1} Y P(Y|x=0) = 1 \\cdot P(y=1|x=0) = 1 \\cdot 1 = 1$  \n",
    "$E[Y|x=1] = \\sum_{y=0,1} Y P(Y|x=1) = 1 \\cdot P(y=1|x=1) = 1 \\cdot \\frac{1}{3} = \\frac{1}{3}$  \n",
    "$E[X|y=0] = \\sum_{x=0,1} X P(X|y=0) = 1 \\cdot P(x=1|y=0) = 1 \\cdot \\frac{1}{2} = \\frac{1}{2}$   \n",
    "$E[X|y=1] = \\sum_{x=0,1} X P(X|y=1) = 1 \\cdot P(x=1|y=1) = 1 \\cdot \\frac{1}{2} = \\frac{1}{2}$  \n",
    "\n",
    "below is incorrect ... missing $P(X)$ terms in sums ...\n",
    "\n",
    "$Var(X) = E[(X - \\mu_X)^2 ] = E[ (X - \\frac{3}{4})^2 ] = \n",
    "\\sum_{x=0,1} P(X)(X - \\frac{3}{4})^2 = \\sum_{x=0,1} (X^2 - \\frac{3}{2}X + \\frac{9}{16}) P(X)\n",
    "=  \\frac{9}{16}\\frac{1}{4} + (1 - \\frac{3}{2} + \\frac{9}{16}) \\frac{3}{4} = \\frac{9}{64} + \\frac{1}{16} = \\frac{13}{64} \\approx 0.2$ \n"
   ]
  },
  {
   "cell_type": "markdown",
   "id": "editorial-allergy",
   "metadata": {},
   "source": [
    "## Study question 1.5.4\n",
    "\n",
    "> *Define the structural model that corresponds to the Monty Hall problem, and use it to describe the joint distribution of all variables.*\n",
    "\n",
    "$X$ - the chosen door  \n",
    "$Y$ - the door with the car  \n",
    "$Z$ - the door opened by the host  \n",
    "\n",
    "$$X\\rightarrow Z \\leftarrow Y$$\n",
    "\n",
    "$$P(X,Y,Z) = P(Z|X,Y)P(X)P(Y)$$\n",
    "\n",
    "Structural Model:   \n",
    "\n",
    "$U = \\{X,Y\\}, \\ V=\\{Z\\}, \\ F=\\{f_Z\\}$\n",
    "\n",
    "$D = \\{A, B, C \\}$\n",
    "\n",
    "$f_Z: \n",
    "Z= \\text{choose one of} \\begin{cases}\n",
    " D - \\{Y\\} \\ \\ \\ \\text{      if  X = Y},\\\\\n",
    " D - \\{X, Y\\} \\text{  if  X \\ne Y}\\\\\n",
    "\\end{cases}$\n",
    "\n",
    "\n",
    "For joint distributions we'll look at examples: \n",
    "\n",
    "E.g, when $X=Y$   \n",
    "$P(Z=A|X=A, Y=A) = 0$    \n",
    "$P(Z=B|X=A, Y=A) = 1/2$   \n",
    "$P(Z=C|X=A, Y=A) = 1/2$   \n",
    "\n",
    "When $X\\ne Y$\n",
    "\n",
    "$P(Z=A|X=A, Y=B) = 0$    \n",
    "$P(Z=B|X=A, Y=B) = 0$   \n",
    "$P(Z=C|X=A, Y=B) = 1$  \n"
   ]
  },
  {
   "cell_type": "code",
   "execution_count": null,
   "id": "noble-hello",
   "metadata": {},
   "outputs": [],
   "source": [
    "df = pd.DataFrame({\"X\": ([\"A\"] * 9) + ([\"B\"] * 9) + ([\"C\"] * 9) , \"Y\": (([\"A\"] * 3) + ([\"B\"] * 3) + ([\"C\"] * 3) )* 3, \"Z\": [\"A\", \"B\", \"C\"] * 9})\n",
    "\n",
    "df[\"P(Z|X,Y)\"] = None\n",
    "p_x = 1./3\n",
    "p_y = 1./3\n",
    "\n",
    "df.loc[df.query(\"X == Y == Z\").index, \"P(Z|X,Y)\"] = 0\n",
    "df.loc[df.query(\"X == Y != Z\").index, \"P(Z|X,Y)\"] = 0.5\n",
    "df.loc[df.query(\"X != Y == Z\").index, \"P(Z|X,Y)\"] = 0\n",
    "df.loc[df.query(\"Z == X != Y\").index, \"P(Z|X,Y)\"] = 0\n",
    "df.loc[df.query(\"X != Y\").query(\"Z != Y\").query(\"Z != X\").index, \"P(Z|X,Y)\"] = 1\n",
    "\n",
    "df[\"P(X, Y, Z)\"] = df[\"P(Z|X,Y)\"] * p_x * p_y\n",
    "\n",
    "print(f\"Testing normalisation of P(X,Y,Z) {df['P(X, Y, Z)'].sum()}\")\n",
    "\n",
    "df"
   ]
  }
 ],
 "metadata": {
  "jupytext": {
   "cell_metadata_filter": "-all",
   "encoding": "# -*- coding: utf-8 -*-",
   "main_language": "python",
   "notebook_metadata_filter": "-all"
  }
 },
 "nbformat": 4,
 "nbformat_minor": 5
}
