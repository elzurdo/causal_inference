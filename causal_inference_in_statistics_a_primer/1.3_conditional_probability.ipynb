{
 "cells": [
  {
   "cell_type": "code",
   "execution_count": 1,
   "id": "binary-mustang",
   "metadata": {
    "ExecuteTime": {
     "end_time": "2021-03-24T07:51:26.242062Z",
     "start_time": "2021-03-24T07:51:25.781656Z"
    }
   },
   "outputs": [],
   "source": [
    "import pandas as pd"
   ]
  },
  {
   "cell_type": "markdown",
   "id": "split-brain",
   "metadata": {},
   "source": [
    "# Study question 1.3.2: Genders in High School\n",
    "\n",
    "> *Consider Table 1.5 showing the relationship between gender and education level in the U.S. adult population.     \n",
    "(a) Estimate $P($High School$)$.    \n",
    "(b) Estimate P(High School OR Female).    \n",
    "(c) EstimateP(HighSchool|Female).     \n",
    "(d) Estimate P(Female | High School).* "
   ]
  },
  {
   "cell_type": "code",
   "execution_count": 2,
   "id": "banner-international",
   "metadata": {
    "ExecuteTime": {
     "end_time": "2021-03-24T07:51:26.302855Z",
     "start_time": "2021-03-24T07:51:26.287797Z"
    }
   },
   "outputs": [
    {
     "data": {
      "text/html": [
       "<div>\n",
       "<style scoped>\n",
       "    .dataframe tbody tr th:only-of-type {\n",
       "        vertical-align: middle;\n",
       "    }\n",
       "\n",
       "    .dataframe tbody tr th {\n",
       "        vertical-align: top;\n",
       "    }\n",
       "\n",
       "    .dataframe thead th {\n",
       "        text-align: right;\n",
       "    }\n",
       "</style>\n",
       "<table border=\"1\" class=\"dataframe\">\n",
       "  <thead>\n",
       "    <tr style=\"text-align: right;\">\n",
       "      <th></th>\n",
       "      <th>gender</th>\n",
       "      <th>highest</th>\n",
       "      <th>occurence</th>\n",
       "    </tr>\n",
       "  </thead>\n",
       "  <tbody>\n",
       "    <tr>\n",
       "      <th>0</th>\n",
       "      <td>male</td>\n",
       "      <td>never</td>\n",
       "      <td>112</td>\n",
       "    </tr>\n",
       "    <tr>\n",
       "      <th>1</th>\n",
       "      <td>male</td>\n",
       "      <td>high school</td>\n",
       "      <td>231</td>\n",
       "    </tr>\n",
       "    <tr>\n",
       "      <th>2</th>\n",
       "      <td>male</td>\n",
       "      <td>college</td>\n",
       "      <td>595</td>\n",
       "    </tr>\n",
       "    <tr>\n",
       "      <th>3</th>\n",
       "      <td>male</td>\n",
       "      <td>graduate</td>\n",
       "      <td>242</td>\n",
       "    </tr>\n",
       "    <tr>\n",
       "      <th>4</th>\n",
       "      <td>female</td>\n",
       "      <td>never</td>\n",
       "      <td>136</td>\n",
       "    </tr>\n",
       "    <tr>\n",
       "      <th>5</th>\n",
       "      <td>female</td>\n",
       "      <td>high school</td>\n",
       "      <td>189</td>\n",
       "    </tr>\n",
       "    <tr>\n",
       "      <th>6</th>\n",
       "      <td>female</td>\n",
       "      <td>college</td>\n",
       "      <td>763</td>\n",
       "    </tr>\n",
       "    <tr>\n",
       "      <th>7</th>\n",
       "      <td>female</td>\n",
       "      <td>graduate</td>\n",
       "      <td>172</td>\n",
       "    </tr>\n",
       "  </tbody>\n",
       "</table>\n",
       "</div>"
      ],
      "text/plain": [
       "   gender      highest  occurence\n",
       "0    male        never        112\n",
       "1    male  high school        231\n",
       "2    male      college        595\n",
       "3    male     graduate        242\n",
       "4  female        never        136\n",
       "5  female  high school        189\n",
       "6  female      college        763\n",
       "7  female     graduate        172"
      ]
     },
     "execution_count": 2,
     "metadata": {},
     "output_type": "execute_result"
    }
   ],
   "source": [
    "df = \\\n",
    "pd.DataFrame({'gender': (['male'] * 4) + (['female'] * 4), \n",
    "              'highest': ['never', 'high school', 'college', 'graduate'] * 2,\n",
    "              'occurence': [112, 231, 595, 242, 136,189,763,172]\n",
    "             })\n",
    "\n",
    "total = df[\"occurence\"].sum()\n",
    "\n",
    "df"
   ]
  },
  {
   "cell_type": "code",
   "execution_count": 3,
   "id": "narrative-documentation",
   "metadata": {
    "ExecuteTime": {
     "end_time": "2021-03-24T07:51:26.537812Z",
     "start_time": "2021-03-24T07:51:26.529556Z"
    }
   },
   "outputs": [
    {
     "data": {
      "text/plain": [
       "0.1721311475409836"
      ]
     },
     "execution_count": 3,
     "metadata": {},
     "output_type": "execute_result"
    }
   ],
   "source": [
    "# P(Highschool)\n",
    "\n",
    "highest = \"high school\"\n",
    "df.query(\"highest == @highest\")[\"occurence\"].sum() / df[\"occurence\"].sum()"
   ]
  },
  {
   "cell_type": "markdown",
   "id": "relevant-roommate",
   "metadata": {},
   "source": [
    "$$P(A \\ \\text{OR} \\  B) = P(A) + P(B) - P(A,B)$$"
   ]
  },
  {
   "cell_type": "code",
   "execution_count": 4,
   "id": "dramatic-tourist",
   "metadata": {
    "ExecuteTime": {
     "end_time": "2021-03-24T07:51:27.199373Z",
     "start_time": "2021-03-24T07:51:27.192379Z"
    }
   },
   "outputs": [
    {
     "data": {
      "text/plain": [
       "0.6110655737704918"
      ]
     },
     "execution_count": 4,
     "metadata": {},
     "output_type": "execute_result"
    }
   ],
   "source": [
    "# P(High School OR Female)\n",
    "\n",
    "highest1 = \"high school\"\n",
    "gender = \"female\"\n",
    "df.query(\"(highest == @highest) | (gender == @gender)\")[\"occurence\"].sum() / total"
   ]
  },
  {
   "cell_type": "code",
   "execution_count": 5,
   "id": "biological-latex",
   "metadata": {
    "ExecuteTime": {
     "end_time": "2021-03-24T07:51:27.516789Z",
     "start_time": "2021-03-24T07:51:27.503616Z"
    }
   },
   "outputs": [
    {
     "data": {
      "text/plain": [
       "0.6110655737704918"
      ]
     },
     "execution_count": 5,
     "metadata": {},
     "output_type": "execute_result"
    }
   ],
   "source": [
    "# P(High School) + P(Female) - P(High School, Female)\n",
    "p_hs = df.query(\"(highest == @highest)\")[\"occurence\"].sum() / total\n",
    "p_fm = df.query(\"(gender == @gender)\")[\"occurence\"].sum()  / total\n",
    "p_hs_fm = df.query(\"(highest == @highest) & (gender == @gender)\")[\"occurence\"].sum() / total\n",
    "\n",
    "p_hs + p_fm - p_hs_fm"
   ]
  },
  {
   "cell_type": "code",
   "execution_count": 6,
   "id": "social-going",
   "metadata": {
    "ExecuteTime": {
     "end_time": "2021-03-24T07:51:27.795135Z",
     "start_time": "2021-03-24T07:51:27.787178Z"
    }
   },
   "outputs": [
    {
     "data": {
      "text/plain": [
       "0.15"
      ]
     },
     "execution_count": 6,
     "metadata": {},
     "output_type": "execute_result"
    }
   ],
   "source": [
    "# P(Female | High School)\n",
    "\n",
    "df.query(\"(highest == @highest) & (gender == @gender)\")[\"occurence\"].sum() / df.query(\"(gender == @gender)\")[\"occurence\"].sum()"
   ]
  },
  {
   "cell_type": "code",
   "execution_count": 7,
   "id": "compliant-chamber",
   "metadata": {
    "ExecuteTime": {
     "end_time": "2021-03-24T07:51:28.035677Z",
     "start_time": "2021-03-24T07:51:28.027754Z"
    },
    "lines_to_next_cell": 2
   },
   "outputs": [
    {
     "data": {
      "text/plain": [
       "0.45"
      ]
     },
     "execution_count": 7,
     "metadata": {},
     "output_type": "execute_result"
    }
   ],
   "source": [
    "# P(HighSchool|Female)\n",
    "df.query(\"(highest == @highest) & (gender == @gender)\")[\"occurence\"].sum() / df.query(\"(highest == @highest)\")[\"occurence\"].sum()"
   ]
  },
  {
   "cell_type": "markdown",
   "id": "breathing-spiritual",
   "metadata": {},
   "source": [
    "# Study question 1.3.3\n",
    "> *Consider the casino problem described in Section 1.3.7* \n",
    "\n",
    "$P(11|craps) = \\frac{1}{18}$  \n",
    "$P(11|roulette) = \\frac{1}{38}$\n",
    "\n",
    "$$P(number) = \\sum_{game} P(number|game)P(game) $$\n",
    "\n",
    "$$P(game|number) = \\frac{P(number|game)P(game)}{P(number)}$$\n",
    "\n",
    "\n",
    "> (a) Compute $P(“craps”|“11”)$ assuming that there are twice as many roulette tables as craps games at the casino.\n",
    "\n",
    "\n",
    "$P(roulette) = 2 P(craps)$  \n",
    "$P(roulette) + P(craps) = 1$  \n",
    "$\\rightarrow P(roulette) = \\frac{2}{3}, P(craps) = \\frac{1}{3}$\n",
    "\n",
    "\n",
    "$$P(11) = P(11|craps)P(craps) + P(11|roulette)P(roulette) = 1/18 \\cdot 1/3 + 1/38 \\cdot 2/3 = 0.036$$\n",
    "\n",
    "$$P(craps|11) = \\frac{P(11|craps)P(craps)}{P(11)} = \\frac{1/18 \\cdot 1/3}{1/18 \\cdot 1/3 + 1/38 \\cdot 2/3 } = 0.5135 $$"
   ]
  },
  {
   "cell_type": "code",
   "execution_count": 8,
   "id": "prescription-cardiff",
   "metadata": {
    "ExecuteTime": {
     "end_time": "2021-03-24T07:51:28.495136Z",
     "start_time": "2021-03-24T07:51:28.491776Z"
    }
   },
   "outputs": [
    {
     "data": {
      "text/plain": [
       "0.5135135135135135"
      ]
     },
     "execution_count": 8,
     "metadata": {},
     "output_type": "execute_result"
    }
   ],
   "source": [
    "(1/18 * 1/3)/(1/18 * 1/3 + 1/38 * 2/3)"
   ]
  },
  {
   "cell_type": "markdown",
   "id": "under-subscription",
   "metadata": {},
   "source": [
    "> (b) Compute P(“roulette”|“10”) assuming that there are twice as many craps games as roulette tables at the casino.\n"
   ]
  },
  {
   "cell_type": "code",
   "execution_count": null,
   "id": "casual-praise",
   "metadata": {},
   "outputs": [],
   "source": []
  },
  {
   "cell_type": "markdown",
   "id": "stunning-turner",
   "metadata": {},
   "source": [
    "# Study question 1.3.4\n",
    "> *Suppose we have three cards. Card 1 has two black faces, one on each side; Card 2 has two white faces; and Card 3 has one white face and one back face. You select a card at random and place it on the table. You find that it is black on the face-up side. What is the probability that the face-down side of the card is also black?*\n",
    "\n",
    "\n",
    "> *(a) Use your intuition to argue that the probability that the face-down side of the card is also\n",
    " black is 0.5 .*\n",
    "\n",
    "\n",
    "$c_1: \\ bb$  \n",
    "$c_2: \\ ww$  \n",
    "$c_3: \\ wb$  \n",
    "\n",
    "Intuition says that if the down facing is black, that means that we are down to two cards, $c_1$ and $c_3$. Given two cards we could argue that each has 50% to be the card. If it is $c_1$ then the results of down will be $b$ and if $c_3$ it will be $w$.   \n",
    "\n",
    "> *Why might it be greater than 0.5 ?*\n",
    "\n",
    "Perhaps we need to consider the fact that $c_1$ should get more weight considering it had to defeat $c_2$ to have black been showed up.  \n",
    "\n",
    "Using the 100 doors Monty Hall analogy, if we change the questions slightly to have a scenario  \n",
    "\n",
    "$c_A: \\ bb$  \n",
    "$c_B: \\ ww$  \n",
    "$c_C: \\ ww$  \n",
    "$c_D: \\ ww$  \n",
    "$c_E: \\ ww$  \n",
    "...  \n",
    "$c_Y: \\ ww$  \n",
    "$c_Z: \\ wb$,  \n",
    "our intuition now dictates to favour $c_A$ over $c_Z$.   \n",
    "\n",
    "> (b) *Express the probabilities and conditional probabilities that you find easy to estimate (for example, P(CD = Black)), in terms of the following variables:\n",
    "I = Identity of the card selected (Card 1, Card 2, or Card 3) CD = Color of the face-down side (Black, White)\n",
    "CU = Color of the face-up side (Black, White)\n",
    "Find the probability that the face-down side of the selected card is black, using your estimates above.*   \n",
    "\n",
    "I use slightly different notation.   \n",
    "\n",
    "$P(\\text{card}_i) = \\frac{1}{3} = P(c_1), P(c_2), P(c_3)$  \n",
    "\n",
    "$P(up=b)=P(down=b) = \\sum_{c_i}P(up=b|c_i)P(c_i) =\\\\ P(up=b|c_1)P(c_1) + P(up=b|c_2)P(c_2) + P(up=b|c_3)P(c_3)=\\\\ 1 * \\frac{1}{3} + \\frac{1}{2} * \\frac{1}{3} = \\frac{1}{2}$\n",
    "\n",
    "\n",
    "$$P(down=b|up=b)= P(bb | up=b) = P(c_1|up=b)=$$  \n",
    "$$\\frac{P(up=b|c_1)P(c_1)}{P(up=b)} = \\\\ \\frac{1 \\times 1/3}{1/2} = \\frac{2}{3}$$"
   ]
  },
  {
   "cell_type": "markdown",
   "id": "forbidden-blink",
   "metadata": {},
   "source": [
    "I also tried this approach, but it is trivial since $P(up=b)=P(down=b)\\equiv Y$:  \n",
    "\n",
    "$$P(down=b|up=b) = \\frac{P(up=b|down=b)P(down=b)}{P(up=b)}$$  \n",
    " \n",
    "$$\\rightarrow X = \\frac{X Y}{Y}$$\n",
    "\n"
   ]
  },
  {
   "cell_type": "markdown",
   "id": "technological-dominican",
   "metadata": {},
   "source": [
    "> (c) *Use Bayes’ theorem to find the correct probability of a randomly selected card’s back\n",
    "being black if you observe that its front is black?*\n",
    "\n"
   ]
  },
  {
   "cell_type": "code",
   "execution_count": null,
   "id": "through-founder",
   "metadata": {
    "lines_to_next_cell": 2
   },
   "outputs": [],
   "source": []
  },
  {
   "cell_type": "markdown",
   "id": "sporting-sunglasses",
   "metadata": {},
   "source": [
    "# Study question 1.3.5: Monty Hall Switch Bayes Benefit Proof\n",
    "Monty Hall\n",
    "\n",
    "> *Prove, using Bayes’ theorem, that switching doors improves your chances of winning the car in the Monty Hall problem.*\n",
    "\n",
    "The clue is in page W.  \n",
    "\n",
    "$X$ - the chosen door  \n",
    "$Y$ - the door with the car  \n",
    "$Z$ - the door opened by the host   \n",
    "\n",
    "Without loss of generality, we need to solve for   \n",
    "$$P(Y=B| X=A, Z=C) > P(Y=A| X=A, Z=C)$$  \n",
    "\n",
    "Using Bayes' Theorem  \n",
    "\n",
    "$P(Y=B| X=A, Z=C) = \\frac{P(X=A, Z=C | Y=B)P(Y=B)}{P(X=A, Z=C)}$    \n",
    "$P(Y=A| X=A, Z=C) = \\frac{P(X=A, Z=C | Y=A)P(Y=A)}{P(X=A, Z=C)}$   \n",
    "\n",
    "Most comonents here are equal so we need to prove:  \n",
    "$$P(X=A, Z=C | Y=B) > P(X=A, Z=C | Y=A)$$ \n",
    "\n",
    "In the case where $Y=B$, the host has only one choice.  \n",
    "In the case where $Y=A$, the host has two choices.   \n",
    "\n",
    "$$P(X=A, Z=C | Y=B) = 2 \\times P(X=A, Z=C | Y=A)$$ "
   ]
  },
  {
   "cell_type": "code",
   "execution_count": null,
   "id": "unique-signature",
   "metadata": {},
   "outputs": [],
   "source": []
  },
  {
   "cell_type": "markdown",
   "id": "equipped-belize",
   "metadata": {},
   "source": [
    "# Study question 1.3.6\n",
    "> (a) *Prove that, in general, both $𝜎_{XY}$ and $𝜌_{XY}$ vanish when $X$ and $Y$ are independent. [Hint: Use Eqs. (1.16) and (1.17).]*\n",
    "\n",
    "$X \\perp \\!\\!\\! \\perp Y \\rightarrow E(X,Y) = E(X)E(Y)$  \n",
    "So if \n",
    "$$\\sigma_{XY} \\equiv E[(X-E(X))(Y-E(Y))]$$  \n",
    "then   \n",
    "$\\sigma_{X \\perp \\!\\! \\perp Y} = E[X \\cdot Y - X\\cdot E(Y) - Y\\cdot E(X) + E(X)E(Y)]= \\\\ E(X)E(Y) - E(X)E(Y) - E(X)E(Y) + E(X)E(Y) = 0$"
   ]
  },
  {
   "cell_type": "markdown",
   "id": "genetic-circulation",
   "metadata": {},
   "source": [
    "> (b) *Give an example of two variables that are highly dependent and, yet, their correlation coefficient vanishes.*\n",
    "\n"
   ]
  },
  {
   "cell_type": "code",
   "execution_count": null,
   "id": "utility-skating",
   "metadata": {},
   "outputs": [],
   "source": []
  },
  {
   "cell_type": "markdown",
   "id": "renewable-allen",
   "metadata": {},
   "source": [
    "# Study question 1.3.7\n",
    "> *Two fair coins are flipped simultaneously to determine the payoffs of two players in the town’s casino. Player 1 wins a dollar if and only if at least one coin lands on head. Player 2 receives a dollar if and only if the two coins land on the same face. Let $X$ stand for the payoff of Player 1 and $Y$ for the payoff of Player 2.*\n",
    "\n",
    "> (a) *Find and describe the probability distributions $P(x), \\ P(y), \\ P(x,y), \\ P(y|x), \\ P(x|y)$*\n",
    "\n",
    "Assuming Heads=1, Tails=0:  \n",
    "\n",
    "| A | B | X | Y |\n",
    "| --- | --- | --- | --- |\n",
    "|0|0| 0| 1\n",
    "|0|1| 1| 0\n",
    "|1|0| 1|0\n",
    "|1|1|1| 1\n",
    "\n",
    "Here we see that   \n",
    "$X = A \\text{ OR } B$   \n",
    "$Y = A \\text{ XNOR } B \\equiv A\\cdot B + \\bar{A}\\cdot\\bar{B}$  \n",
    "\n",
    "|$X$|$P(X)$|\n",
    "| --- | --- |\n",
    "|$0$|$\\frac{1}{4}$\n",
    "|$1$|$\\frac{3}{4}$\n",
    "\n",
    "|$Y$|$P(Y)$|\n",
    "| --- | --- |\n",
    "|$0$|$\\frac{1}{2}$\n",
    "|$1$|$\\frac{1}{2}$\n",
    "\n",
    "|$X$|$Y$| $P(X,Y)$|\n",
    "| --- | --- | --- |\n",
    "|$0$|$0$|$0$\n",
    "|$0$|$1$|$\\frac{1}{4}$\n",
    "|$1$|$0$|$\\frac{1}{2}$\n",
    "|$1$|$1$|$\\frac{1}{4}$\n",
    "\n",
    "\n",
    "|$X$|$Y$| $P(Y|X)$|\n",
    "| --- | --- | --- |\n",
    "|$0$|$0$|$0$\n",
    "|$0$|$1$|$1$\n",
    "|$1$|$0$|$\\frac{2}{3}$\n",
    "|$1$|$1$|$\\frac{1}{3}$\n",
    "\n",
    "Note that for $P(Y|X)$ the normalisation is at fixed $X$, i.e,    \n",
    "$P(Y=0|X=0) + P(Y=1|X=0) = 1$ and  \n",
    "$P(Y=0|X=1) + P(Y=1|X=1) = 1$\n",
    "\n",
    "|$X$|$Y$| $P(X|Y)$|\n",
    "| --- | --- | --- |\n",
    "|$0$|$0$|$0$\n",
    "|$0$|$1$|$\\frac{1}{2}$\n",
    "|$1$|$0$|$1$\n",
    "|$1$|$1$|$\\frac{1}{2}$  \n",
    "\n",
    "Note that for $P(X|Y)$ the normalisation is at fixed $Y$, i.e,    \n",
    "$P(X=0|Y=0) + P(X=1|Y=0) = 1$ and  \n",
    "$P(X=0|Y=1) + P(X=1|Y=1) = 1$"
   ]
  },
  {
   "cell_type": "markdown",
   "id": "differential-hundred",
   "metadata": {},
   "source": [
    "> (b) *Using the descriptions in (a), compute the following measures:* \n",
    "\n",
    "$E[X] = \\sum_{x=0,1} X P(X) = 1 \\cdot P(x=1) = \\frac{3}{4}$  \n",
    "$E[Y] = \\sum_{y=0,1} Y P(Y) = 1 \\cdot P(y=1) = \\frac{1}{2}$\n",
    "\n",
    "$E[Y|x=0] = \\sum_{y=0,1} Y P(Y|x=0) = 1 \\cdot P(y=1|x=0) = 1 \\cdot 1 = 1$  \n",
    "$E[Y|x=1] = \\sum_{y=0,1} Y P(Y|x=1) = 1 \\cdot P(y=1|x=1) = 1 \\cdot \\frac{1}{3} = \\frac{1}{3}$  \n",
    "$E[X|y=0] = \\sum_{x=0,1} X P(X|y=0) = 1 \\cdot P(x=1|y=0) = 1 \\cdot \\frac{1}{2} = \\frac{1}{2}$   \n",
    "$E[X|y=1] = \\sum_{x=0,1} X P(X|y=1) = 1 \\cdot P(x=1|y=1) = 1 \\cdot \\frac{1}{2} = \\frac{1}{2}$  \n",
    "\n",
    "below is incorrect ... missing $P(X)$ terms in sums ...\n",
    "\n",
    "$Var(X) = E[(X - \\mu_X)^2 ] = E[ (X - \\frac{3}{4})^2 ] = \n",
    "\\sum_{x=0,1} P(X)(X - \\frac{3}{4})^2 = \\sum_{x=0,1} (X^2 - \\frac{3}{2}X + \\frac{9}{16}) P(X)\n",
    "=  \\frac{9}{16}\\frac{1}{4} + (1 - \\frac{3}{2} + \\frac{9}{16}) \\frac{3}{4} = \\frac{9}{64} + \\frac{1}{16} = \\frac{13}{64} \\approx 0.2$ \n"
   ]
  },
  {
   "cell_type": "markdown",
   "id": "editorial-allergy",
   "metadata": {},
   "source": [
    "## Study question 1.5.4\n",
    "\n",
    "> *Define the structural model that corresponds to the Monty Hall problem, and use it to describe the joint distribution of all variables.*\n",
    "\n",
    "$X$ - the chosen door  \n",
    "$Y$ - the door with the car  \n",
    "$Z$ - the door opened by the host  \n",
    "\n",
    "$$X\\rightarrow Z \\leftarrow Y$$\n",
    "\n",
    "$$P(X,Y,Z) = P(Z|X,Y)P(X)P(Y)$$\n",
    "\n",
    "Structural Model:   \n",
    "\n",
    "$U = \\{X,Y\\}, \\ V=\\{Z\\}, \\ F=\\{f_Z\\}$\n",
    "\n",
    "$D = \\{A, B, C \\}$\n",
    "\n",
    "$f_Z: \n",
    "Z= \\text{choose one of} \\begin{cases}\n",
    " D - \\{Y\\} \\ \\ \\ \\text{      if  X = Y},\\\\\n",
    " D - \\{X, Y\\} \\text{  if  X \\ne Y}\\\\\n",
    "\\end{cases}$\n",
    "\n",
    "\n",
    "For joint distributions we'll look at examples: \n",
    "\n",
    "E.g, when $X=Y$   \n",
    "$P(Z=A|X=A, Y=A) = 0$    \n",
    "$P(Z=B|X=A, Y=A) = 1/2$   \n",
    "$P(Z=C|X=A, Y=A) = 1/2$   \n",
    "\n",
    "When $X\\ne Y$\n",
    "\n",
    "$P(Z=A|X=A, Y=B) = 0$    \n",
    "$P(Z=B|X=A, Y=B) = 0$   \n",
    "$P(Z=C|X=A, Y=B) = 1$  \n"
   ]
  },
  {
   "cell_type": "code",
   "execution_count": 9,
   "id": "noble-hello",
   "metadata": {
    "ExecuteTime": {
     "end_time": "2021-03-24T07:51:34.057911Z",
     "start_time": "2021-03-24T07:51:34.019374Z"
    }
   },
   "outputs": [
    {
     "name": "stdout",
     "output_type": "stream",
     "text": [
      "Testing normalisation of P(X,Y,Z) 1.0000000000000002\n"
     ]
    },
    {
     "data": {
      "text/html": [
       "<div>\n",
       "<style scoped>\n",
       "    .dataframe tbody tr th:only-of-type {\n",
       "        vertical-align: middle;\n",
       "    }\n",
       "\n",
       "    .dataframe tbody tr th {\n",
       "        vertical-align: top;\n",
       "    }\n",
       "\n",
       "    .dataframe thead th {\n",
       "        text-align: right;\n",
       "    }\n",
       "</style>\n",
       "<table border=\"1\" class=\"dataframe\">\n",
       "  <thead>\n",
       "    <tr style=\"text-align: right;\">\n",
       "      <th></th>\n",
       "      <th>X</th>\n",
       "      <th>Y</th>\n",
       "      <th>Z</th>\n",
       "      <th>P(Z|X,Y)</th>\n",
       "      <th>P(X, Y, Z)</th>\n",
       "    </tr>\n",
       "  </thead>\n",
       "  <tbody>\n",
       "    <tr>\n",
       "      <th>0</th>\n",
       "      <td>A</td>\n",
       "      <td>A</td>\n",
       "      <td>A</td>\n",
       "      <td>0</td>\n",
       "      <td>0.0</td>\n",
       "    </tr>\n",
       "    <tr>\n",
       "      <th>1</th>\n",
       "      <td>A</td>\n",
       "      <td>A</td>\n",
       "      <td>B</td>\n",
       "      <td>0.5</td>\n",
       "      <td>0.055556</td>\n",
       "    </tr>\n",
       "    <tr>\n",
       "      <th>2</th>\n",
       "      <td>A</td>\n",
       "      <td>A</td>\n",
       "      <td>C</td>\n",
       "      <td>0.5</td>\n",
       "      <td>0.055556</td>\n",
       "    </tr>\n",
       "    <tr>\n",
       "      <th>3</th>\n",
       "      <td>A</td>\n",
       "      <td>B</td>\n",
       "      <td>A</td>\n",
       "      <td>0</td>\n",
       "      <td>0.0</td>\n",
       "    </tr>\n",
       "    <tr>\n",
       "      <th>4</th>\n",
       "      <td>A</td>\n",
       "      <td>B</td>\n",
       "      <td>B</td>\n",
       "      <td>0</td>\n",
       "      <td>0.0</td>\n",
       "    </tr>\n",
       "    <tr>\n",
       "      <th>5</th>\n",
       "      <td>A</td>\n",
       "      <td>B</td>\n",
       "      <td>C</td>\n",
       "      <td>1</td>\n",
       "      <td>0.111111</td>\n",
       "    </tr>\n",
       "    <tr>\n",
       "      <th>6</th>\n",
       "      <td>A</td>\n",
       "      <td>C</td>\n",
       "      <td>A</td>\n",
       "      <td>0</td>\n",
       "      <td>0.0</td>\n",
       "    </tr>\n",
       "    <tr>\n",
       "      <th>7</th>\n",
       "      <td>A</td>\n",
       "      <td>C</td>\n",
       "      <td>B</td>\n",
       "      <td>1</td>\n",
       "      <td>0.111111</td>\n",
       "    </tr>\n",
       "    <tr>\n",
       "      <th>8</th>\n",
       "      <td>A</td>\n",
       "      <td>C</td>\n",
       "      <td>C</td>\n",
       "      <td>0</td>\n",
       "      <td>0.0</td>\n",
       "    </tr>\n",
       "    <tr>\n",
       "      <th>9</th>\n",
       "      <td>B</td>\n",
       "      <td>A</td>\n",
       "      <td>A</td>\n",
       "      <td>0</td>\n",
       "      <td>0.0</td>\n",
       "    </tr>\n",
       "    <tr>\n",
       "      <th>10</th>\n",
       "      <td>B</td>\n",
       "      <td>A</td>\n",
       "      <td>B</td>\n",
       "      <td>0</td>\n",
       "      <td>0.0</td>\n",
       "    </tr>\n",
       "    <tr>\n",
       "      <th>11</th>\n",
       "      <td>B</td>\n",
       "      <td>A</td>\n",
       "      <td>C</td>\n",
       "      <td>1</td>\n",
       "      <td>0.111111</td>\n",
       "    </tr>\n",
       "    <tr>\n",
       "      <th>12</th>\n",
       "      <td>B</td>\n",
       "      <td>B</td>\n",
       "      <td>A</td>\n",
       "      <td>0.5</td>\n",
       "      <td>0.055556</td>\n",
       "    </tr>\n",
       "    <tr>\n",
       "      <th>13</th>\n",
       "      <td>B</td>\n",
       "      <td>B</td>\n",
       "      <td>B</td>\n",
       "      <td>0</td>\n",
       "      <td>0.0</td>\n",
       "    </tr>\n",
       "    <tr>\n",
       "      <th>14</th>\n",
       "      <td>B</td>\n",
       "      <td>B</td>\n",
       "      <td>C</td>\n",
       "      <td>0.5</td>\n",
       "      <td>0.055556</td>\n",
       "    </tr>\n",
       "    <tr>\n",
       "      <th>15</th>\n",
       "      <td>B</td>\n",
       "      <td>C</td>\n",
       "      <td>A</td>\n",
       "      <td>1</td>\n",
       "      <td>0.111111</td>\n",
       "    </tr>\n",
       "    <tr>\n",
       "      <th>16</th>\n",
       "      <td>B</td>\n",
       "      <td>C</td>\n",
       "      <td>B</td>\n",
       "      <td>0</td>\n",
       "      <td>0.0</td>\n",
       "    </tr>\n",
       "    <tr>\n",
       "      <th>17</th>\n",
       "      <td>B</td>\n",
       "      <td>C</td>\n",
       "      <td>C</td>\n",
       "      <td>0</td>\n",
       "      <td>0.0</td>\n",
       "    </tr>\n",
       "    <tr>\n",
       "      <th>18</th>\n",
       "      <td>C</td>\n",
       "      <td>A</td>\n",
       "      <td>A</td>\n",
       "      <td>0</td>\n",
       "      <td>0.0</td>\n",
       "    </tr>\n",
       "    <tr>\n",
       "      <th>19</th>\n",
       "      <td>C</td>\n",
       "      <td>A</td>\n",
       "      <td>B</td>\n",
       "      <td>1</td>\n",
       "      <td>0.111111</td>\n",
       "    </tr>\n",
       "    <tr>\n",
       "      <th>20</th>\n",
       "      <td>C</td>\n",
       "      <td>A</td>\n",
       "      <td>C</td>\n",
       "      <td>0</td>\n",
       "      <td>0.0</td>\n",
       "    </tr>\n",
       "    <tr>\n",
       "      <th>21</th>\n",
       "      <td>C</td>\n",
       "      <td>B</td>\n",
       "      <td>A</td>\n",
       "      <td>1</td>\n",
       "      <td>0.111111</td>\n",
       "    </tr>\n",
       "    <tr>\n",
       "      <th>22</th>\n",
       "      <td>C</td>\n",
       "      <td>B</td>\n",
       "      <td>B</td>\n",
       "      <td>0</td>\n",
       "      <td>0.0</td>\n",
       "    </tr>\n",
       "    <tr>\n",
       "      <th>23</th>\n",
       "      <td>C</td>\n",
       "      <td>B</td>\n",
       "      <td>C</td>\n",
       "      <td>0</td>\n",
       "      <td>0.0</td>\n",
       "    </tr>\n",
       "    <tr>\n",
       "      <th>24</th>\n",
       "      <td>C</td>\n",
       "      <td>C</td>\n",
       "      <td>A</td>\n",
       "      <td>0.5</td>\n",
       "      <td>0.055556</td>\n",
       "    </tr>\n",
       "    <tr>\n",
       "      <th>25</th>\n",
       "      <td>C</td>\n",
       "      <td>C</td>\n",
       "      <td>B</td>\n",
       "      <td>0.5</td>\n",
       "      <td>0.055556</td>\n",
       "    </tr>\n",
       "    <tr>\n",
       "      <th>26</th>\n",
       "      <td>C</td>\n",
       "      <td>C</td>\n",
       "      <td>C</td>\n",
       "      <td>0</td>\n",
       "      <td>0.0</td>\n",
       "    </tr>\n",
       "  </tbody>\n",
       "</table>\n",
       "</div>"
      ],
      "text/plain": [
       "    X  Y  Z P(Z|X,Y) P(X, Y, Z)\n",
       "0   A  A  A        0        0.0\n",
       "1   A  A  B      0.5   0.055556\n",
       "2   A  A  C      0.5   0.055556\n",
       "3   A  B  A        0        0.0\n",
       "4   A  B  B        0        0.0\n",
       "5   A  B  C        1   0.111111\n",
       "6   A  C  A        0        0.0\n",
       "7   A  C  B        1   0.111111\n",
       "8   A  C  C        0        0.0\n",
       "9   B  A  A        0        0.0\n",
       "10  B  A  B        0        0.0\n",
       "11  B  A  C        1   0.111111\n",
       "12  B  B  A      0.5   0.055556\n",
       "13  B  B  B        0        0.0\n",
       "14  B  B  C      0.5   0.055556\n",
       "15  B  C  A        1   0.111111\n",
       "16  B  C  B        0        0.0\n",
       "17  B  C  C        0        0.0\n",
       "18  C  A  A        0        0.0\n",
       "19  C  A  B        1   0.111111\n",
       "20  C  A  C        0        0.0\n",
       "21  C  B  A        1   0.111111\n",
       "22  C  B  B        0        0.0\n",
       "23  C  B  C        0        0.0\n",
       "24  C  C  A      0.5   0.055556\n",
       "25  C  C  B      0.5   0.055556\n",
       "26  C  C  C        0        0.0"
      ]
     },
     "execution_count": 9,
     "metadata": {},
     "output_type": "execute_result"
    }
   ],
   "source": [
    "df = pd.DataFrame({\"X\": ([\"A\"] * 9) + ([\"B\"] * 9) + ([\"C\"] * 9) , \"Y\": (([\"A\"] * 3) + ([\"B\"] * 3) + ([\"C\"] * 3) )* 3, \"Z\": [\"A\", \"B\", \"C\"] * 9})\n",
    "\n",
    "df[\"P(Z|X,Y)\"] = None\n",
    "p_x = 1./3\n",
    "p_y = 1./3\n",
    "\n",
    "df.loc[df.query(\"X == Y == Z\").index, \"P(Z|X,Y)\"] = 0\n",
    "df.loc[df.query(\"X == Y != Z\").index, \"P(Z|X,Y)\"] = 0.5\n",
    "df.loc[df.query(\"X != Y == Z\").index, \"P(Z|X,Y)\"] = 0\n",
    "df.loc[df.query(\"Z == X != Y\").index, \"P(Z|X,Y)\"] = 0\n",
    "df.loc[df.query(\"X != Y\").query(\"Z != Y\").query(\"Z != X\").index, \"P(Z|X,Y)\"] = 1\n",
    "\n",
    "df[\"P(X, Y, Z)\"] = df[\"P(Z|X,Y)\"] * p_x * p_y\n",
    "\n",
    "print(f\"Testing normalisation of P(X,Y,Z) {df['P(X, Y, Z)'].sum()}\")\n",
    "\n",
    "df"
   ]
  },
  {
   "cell_type": "code",
   "execution_count": null,
   "id": "brilliant-fever",
   "metadata": {},
   "outputs": [],
   "source": []
  }
 ],
 "metadata": {
  "jupytext": {
   "cell_metadata_filter": "-all",
   "encoding": "# -*- coding: utf-8 -*-",
   "main_language": "python",
   "notebook_metadata_filter": "-all"
  },
  "kernelspec": {
   "display_name": "Python 3",
   "language": "python",
   "name": "python3"
  },
  "language_info": {
   "codemirror_mode": {
    "name": "ipython",
    "version": 3
   },
   "file_extension": ".py",
   "mimetype": "text/x-python",
   "name": "python",
   "nbconvert_exporter": "python",
   "pygments_lexer": "ipython3",
   "version": "3.8.6"
  },
  "toc": {
   "base_numbering": 1,
   "nav_menu": {},
   "number_sections": true,
   "sideBar": true,
   "skip_h1_title": false,
   "title_cell": "Table of Contents",
   "title_sidebar": "Contents",
   "toc_cell": false,
   "toc_position": {},
   "toc_section_display": true,
   "toc_window_display": false
  }
 },
 "nbformat": 4,
 "nbformat_minor": 5
}
