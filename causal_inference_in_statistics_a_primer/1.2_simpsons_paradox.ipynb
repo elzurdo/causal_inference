{
 "cells": [
  {
   "cell_type": "code",
   "execution_count": 1,
   "id": "earlier-virus",
   "metadata": {
    "ExecuteTime": {
     "end_time": "2021-11-21T06:56:41.101930Z",
     "start_time": "2021-11-21T06:56:40.734534Z"
    }
   },
   "outputs": [],
   "source": [
    "import numpy as np\n",
    "import pandas as pd"
   ]
  },
  {
   "cell_type": "code",
   "execution_count": 2,
   "id": "rough-bonus",
   "metadata": {
    "ExecuteTime": {
     "end_time": "2021-11-21T06:56:41.373495Z",
     "start_time": "2021-11-21T06:56:41.104129Z"
    }
   },
   "outputs": [],
   "source": [
    "# visual setup\n",
    "\n",
    "import matplotlib.pyplot as plt\n",
    "\n",
    "SMALL_SIZE = 12\n",
    "MEDIUM_SIZE = 16\n",
    "BIGGER_SIZE = 20\n",
    "\n",
    "plt.rc(\"font\", size=SMALL_SIZE)  # controls default text sizes\n",
    "plt.rc(\"axes\", titlesize=SMALL_SIZE)  # fontsize of the axes title\n",
    "plt.rc(\"axes\", labelsize=MEDIUM_SIZE)  # fontsize of the x and y labels\n",
    "plt.rc(\"xtick\", labelsize=SMALL_SIZE)  # fontsize of the tick labels\n",
    "plt.rc(\"ytick\", labelsize=SMALL_SIZE)  # fontsize of the tick labels\n",
    "plt.rc(\"legend\", fontsize=SMALL_SIZE)  # legend fontsize\n",
    "plt.rc(\"axes\", titlesize=BIGGER_SIZE)  # fontsize of the figure title\n",
    "\n",
    "plt.rcParams[\"figure.figsize\"] = 8, 6\n",
    "\n",
    "plt.rcParams[\"hatch.linewidth\"] = 0.3"
   ]
  },
  {
   "cell_type": "markdown",
   "id": "beneficial-windsor",
   "metadata": {},
   "source": [
    "[Simpson's Paradox Tutorial App](https://share.streamlit.io/elzurdo/causal_inference/main/apps/simpsons_paradox.py)"
   ]
  },
  {
   "cell_type": "markdown",
   "id": "weekly-giant",
   "metadata": {},
   "source": [
    "# Study Q2\n",
    "\n",
    "> *A baseball batter Tim has a better batting average than his teammate Frank. However, someone notices that Frank has a better batting average than Tim against both right-handed and left-handed pitchers. How can this happen? (Present your answer in a table.)*\n",
    "\n",
    "\n",
    "This can happend when when we have a situation where we have an imbalance between the \n",
    "batting averages as well as an imbalance between pitcher types.  \n",
    "\n",
    "Assuming the total number of pitches from left handers $N^L$ plus those from right handers $N^R$ are the same \n",
    "for both Frank and Tim and batting averages $B$ of Frank is better than Tim:  \n",
    "\n",
    "$B^R_\\text{Frank} > B^R_\\text{Tim} >> B^L_\\text{Frank} > B^L_\\text{Tim}$,   \n",
    "$N^R_\\text{Frank} < N^R_\\text{Tim} \\text{ assuming same total } \\rightarrow N^L_\\text{Frank} > N^L_\\text{Tim}$\n"
   ]
  },
  {
   "cell_type": "code",
   "execution_count": 3,
   "id": "twelve-prerequisite",
   "metadata": {
    "ExecuteTime": {
     "end_time": "2021-11-21T06:59:13.001704Z",
     "start_time": "2021-11-21T06:59:12.998880Z"
    }
   },
   "outputs": [],
   "source": [
    "# Example setup: batting average - frank batts better than tim. Right: 0.9 > 0.8, Left: 0.2 > 0.1\n",
    "frank_batt_ave_right  = 1.\n",
    "frank_batt_ave_left = 0.2\n",
    "\n",
    "tim_batt_ave_right  = 0.8\n",
    "tim_batt_ave_left = 0.1"
   ]
  },
  {
   "cell_type": "code",
   "execution_count": 4,
   "id": "bearing-failing",
   "metadata": {
    "ExecuteTime": {
     "end_time": "2021-11-21T06:59:13.350846Z",
     "start_time": "2021-11-21T06:59:13.347573Z"
    }
   },
   "outputs": [],
   "source": [
    "# Exaple setup: number of batts - \n",
    "total_batts = 100\n",
    "\n",
    "frank_batt_right = 10\n",
    "frank_batt_left = total_batts - frank_batt_right\n",
    "\n",
    "tim_batt_right = 90\n",
    "tim_batt_left = total_batts - tim_batt_right"
   ]
  },
  {
   "cell_type": "code",
   "execution_count": 5,
   "id": "bound-clearance",
   "metadata": {
    "ExecuteTime": {
     "end_time": "2021-11-21T06:59:13.794767Z",
     "start_time": "2021-11-21T06:59:13.777454Z"
    }
   },
   "outputs": [
    {
     "data": {
      "text/html": [
       "<div>\n",
       "<style scoped>\n",
       "    .dataframe tbody tr th:only-of-type {\n",
       "        vertical-align: middle;\n",
       "    }\n",
       "\n",
       "    .dataframe tbody tr th {\n",
       "        vertical-align: top;\n",
       "    }\n",
       "\n",
       "    .dataframe thead th {\n",
       "        text-align: right;\n",
       "    }\n",
       "</style>\n",
       "<table border=\"1\" class=\"dataframe\">\n",
       "  <thead>\n",
       "    <tr style=\"text-align: right;\">\n",
       "      <th></th>\n",
       "      <th>player</th>\n",
       "      <th>pitcher</th>\n",
       "      <th>successes</th>\n",
       "      <th>failures</th>\n",
       "    </tr>\n",
       "  </thead>\n",
       "  <tbody>\n",
       "    <tr>\n",
       "      <th>0</th>\n",
       "      <td>frank</td>\n",
       "      <td>right</td>\n",
       "      <td>10.0</td>\n",
       "      <td>0.0</td>\n",
       "    </tr>\n",
       "    <tr>\n",
       "      <th>1</th>\n",
       "      <td>frank</td>\n",
       "      <td>left</td>\n",
       "      <td>18.0</td>\n",
       "      <td>72.0</td>\n",
       "    </tr>\n",
       "    <tr>\n",
       "      <th>2</th>\n",
       "      <td>tim</td>\n",
       "      <td>right</td>\n",
       "      <td>72.0</td>\n",
       "      <td>18.0</td>\n",
       "    </tr>\n",
       "    <tr>\n",
       "      <th>3</th>\n",
       "      <td>tim</td>\n",
       "      <td>left</td>\n",
       "      <td>1.0</td>\n",
       "      <td>9.0</td>\n",
       "    </tr>\n",
       "  </tbody>\n",
       "</table>\n",
       "</div>"
      ],
      "text/plain": [
       "  player pitcher successes failures\n",
       "0  frank   right      10.0      0.0\n",
       "1  frank    left      18.0     72.0\n",
       "2    tim   right      72.0     18.0\n",
       "3    tim    left       1.0      9.0"
      ]
     },
     "execution_count": 5,
     "metadata": {},
     "output_type": "execute_result"
    }
   ],
   "source": [
    "frank_succeed_right = frank_batt_right * frank_batt_ave_right\n",
    "frank_fail_right = frank_batt_right * (1 - frank_batt_ave_right)\n",
    "\n",
    "df_batting = \\\n",
    "pd.DataFrame(\n",
    "{0: {\"player\": \"frank\", \"pitcher\": \"right\", \"successes\": frank_batt_right * frank_batt_ave_right, \"failures\" : frank_batt_right * (1 - frank_batt_ave_right)},\n",
    " 1: {\"player\": \"frank\", \"pitcher\": \"left\", \"successes\": frank_batt_left * frank_batt_ave_left, \"failures\" : frank_batt_left * (1 - frank_batt_ave_left)},\n",
    " 2: {\"player\": \"tim\", \"pitcher\": \"right\", \"successes\": tim_batt_right * tim_batt_ave_right, \"failures\" : tim_batt_right * (1 - tim_batt_ave_right)},\n",
    " 3: {\"player\": \"tim\", \"pitcher\": \"left\", \"successes\": tim_batt_left * tim_batt_ave_left, \"failures\" : tim_batt_left * (1 - tim_batt_ave_left)},  \n",
    "}\n",
    ").T\n",
    "\n",
    "df_batting"
   ]
  },
  {
   "cell_type": "code",
   "execution_count": 6,
   "id": "matched-bennett",
   "metadata": {
    "ExecuteTime": {
     "end_time": "2021-11-21T07:00:16.387190Z",
     "start_time": "2021-11-21T07:00:16.373335Z"
    }
   },
   "outputs": [
    {
     "name": "stdout",
     "output_type": "stream",
     "text": [
      "Frank: 28% - succeeds 28 times and fails 72\n",
      "Tim  : 73% - succeeds 73 times and fails 27\n"
     ]
    }
   ],
   "source": [
    "frank = df_batting.query(\"player == 'frank'\").sum()\n",
    "tim = df_batting.query(\"player == 'tim'\").sum()\n",
    "\n",
    "print(f\"Frank: {100* frank['successes']/ frank[['successes', 'failures']].sum():0.0f}% - succeeds {frank['successes']:0.0f} times and fails {frank['failures']:0.0f}\")\n",
    "print(f\"Tim  : {100* tim['successes']/ tim[['successes', 'failures']].sum():0.0f}% - succeeds {tim['successes']:0.0f} times and fails {tim['failures']:0.0f}\")"
   ]
  },
  {
   "cell_type": "markdown",
   "id": "derived-walnut",
   "metadata": {},
   "source": [
    "**Graph model considerations**   \n",
    "\n",
    "Outcome - batting avarage  \n",
    "Batter - Tim or Frank  \n",
    "Pitcher - Left handed or Right handed  \n",
    "\n",
    "Pitcher selection does not depend on the Batter.   \n",
    "Batter selection does not depend on the Pitcher.  \n",
    "The outcome is a function of both the Pitcher and the Batter.   "
   ]
  },
  {
   "cell_type": "code",
   "execution_count": 7,
   "id": "acquired-funds",
   "metadata": {
    "ExecuteTime": {
     "end_time": "2021-11-21T07:03:08.221060Z",
     "start_time": "2021-11-21T07:03:08.123813Z"
    }
   },
   "outputs": [
    {
     "data": {
      "image/png": "[encoded data removed]",
      "text/plain": [
       "<Figure size 184.252x117.638 with 1 Axes>"
      ]
     },
     "metadata": {},
     "output_type": "display_data"
    }
   ],
   "source": [
    "import daft  # pip install daft    From: https://pypi.org/project/data/\n",
    "\n",
    "pgm = daft.PGM(aspect=1.2, node_unit=1.75)\n",
    "pgm.add_node(\"batter\", r\"Batter\", 4, 3)\n",
    "pgm.add_node(\"pitcher\", r\"Pitcher\", 2, 3)\n",
    "pgm.add_node(\"outcome\", r\"Outcome\", 3, 2)\n",
    "pgm.add_edge(\"pitcher\", \"outcome\")\n",
    "pgm.add_edge(\"batter\", \"outcome\")\n",
    "pgm.add_edge(\"pitcher\", \"batter\") # the batter depends on the pitcher\n",
    "pgm.render()\n",
    "pass"
   ]
  },
  {
   "cell_type": "markdown",
   "id": "ethical-durham",
   "metadata": {},
   "source": [
    "Todo: \n",
    "\n",
    "* Widget this!\n"
   ]
  },
  {
   "cell_type": "markdown",
   "id": "accompanied-romance",
   "metadata": {},
   "source": [
    "# Study Q3\n",
    "\n",
    "Study question 1.2.3\n",
    "\n",
    "> *Determine, for each of the following causal stories, whether you should use the aggregate or the segregated data to determine the true effect.*\n",
    "\n",
    "> *(a) There are two treatments used on kidney stones: Treatment A and Treatment B. Doctors are more likely to use Treatment A on large (and therefore, more severe) stones and more likely to use Treatment B on small stones. Should a patient who doesn’t know the size of his or her stone examine the general population data, or the stone size-specific data when determining which treatment will be more effective?*\n",
    "\n",
    "\n",
    "They should most definitely look at the more granular data.  \n",
    "\n",
    "We have graph:  \n",
    "Recovery <--- Stone --> Treatment --> Recovery   \n",
    "\n",
    "Assuming a 50% chance between large and small they should choose the \n",
    "\n",
    "This assumes failure  \n",
    "\n",
    "severity ..."
   ]
  },
  {
   "cell_type": "markdown",
   "id": "unusual-zoning",
   "metadata": {},
   "source": [
    "> *(b) There are two doctors in a small town. Each has performed 100 surgeries in his career, which are of two types: one very difficult surgery and one very easy surgery. The first doctor performs the easy surgery much more often than the difficult surgery and the second doctor performs the difficult surgery more often than the easy surgery. You need surgery, but you do not know whether your case is easy or difficult. Should you consult the success rate of each doctor over all cases, or should you consult their success rates for the easy and difficult cases separately, to maximize the chance of a successful surgery?*"
   ]
  },
  {
   "cell_type": "markdown",
   "id": "adjacent-childhood",
   "metadata": {},
   "source": [
    "# Study Q4\n",
    "\n",
    "Study question 1.2.4  \n",
    "\n",
    "> *In an attempt to estimate the effectiveness of a new drug, a randomized experiment is con- ducted. In all, 50% of the patients are assigned to receive the new drug and 50% to receive a placebo. A day before the actual experiment, a nurse hands out lollipops to some patients who show signs of depression, mostly among those who have been assigned to treatment the next day (i.e., the nurse’s round happened to take her through the treatment-bound ward). Strangely, the experimental data revealed a Simpson’s reversal: Although the drug proved beneficial to the population as a whole, drug takers were less likely to recover than nontakers, among both lollipop receivers and lollipop nonreceivers. Assuming that lollipop sucking in itself has no effect whatsoever on recovery, answer the following questions:*\n",
    "\n",
    "50% - drug   \n",
    "50% - placebo   \n",
    "\n",
    "before experiment.  \n",
    "If patient shows sign of depression they got lollypop.  \n",
    "\n",
    "\n",
    " \n",
    "`f_lolly` - lollypop - showed signs of depression. \n",
    "\n",
    "\n",
    "\n",
    "> (a) *Is the drug beneficial to the population as a whole or harmful?*"
   ]
  },
  {
   "cell_type": "code",
   "execution_count": null,
   "id": "structured-switch",
   "metadata": {},
   "outputs": [],
   "source": []
  },
  {
   "cell_type": "markdown",
   "id": "superior-constitutional",
   "metadata": {},
   "source": [
    "> (b) *Does your answer contradict our gender example, where sex-specific data was deemed\n",
    "more appropriate?*"
   ]
  },
  {
   "cell_type": "code",
   "execution_count": null,
   "id": "thrown-vehicle",
   "metadata": {},
   "outputs": [],
   "source": []
  },
  {
   "cell_type": "markdown",
   "id": "hazardous-ratio",
   "metadata": {},
   "source": [
    "> (c) *Draw a graph (informally) that more or less captures the story. (Look ahead to Section\n",
    "1.4 if you wish.)*"
   ]
  },
  {
   "cell_type": "code",
   "execution_count": null,
   "id": "quality-subscription",
   "metadata": {},
   "outputs": [],
   "source": []
  },
  {
   "cell_type": "markdown",
   "id": "committed-testament",
   "metadata": {},
   "source": [
    "> (d) *How would you explain the emergence of Simpson’s reversal in this story?*"
   ]
  },
  {
   "cell_type": "code",
   "execution_count": null,
   "id": "structured-banner",
   "metadata": {},
   "outputs": [],
   "source": []
  },
  {
   "cell_type": "markdown",
   "id": "wooden-mumbai",
   "metadata": {},
   "source": [
    "\n",
    "\n",
    "\n",
    "> (e) *Would your answer change if the lollipops were handed out (by the same criterion)a day after the study?\n",
    "[Hint: Use the fact that receiving a lollipop indicates a greater likelihood of being assigned to drug treatment, as well as depression, which is a symptom of risk factors that lower the likelihood of recovery.]*\n"
   ]
  },
  {
   "cell_type": "code",
   "execution_count": null,
   "id": "sublime-generator",
   "metadata": {},
   "outputs": [],
   "source": []
  }
 ],
 "metadata": {
  "jupytext": {
   "cell_metadata_filter": "-all",
   "encoding": "# -*- coding: utf-8 -*-",
   "main_language": "python",
   "notebook_metadata_filter": "-all"
  },
  "kernelspec": {
   "display_name": "Python 3",
   "language": "python",
   "name": "python3"
  },
  "language_info": {
   "codemirror_mode": {
    "name": "ipython",
    "version": 3
   },
   "file_extension": ".py",
   "mimetype": "text/x-python",
   "name": "python",
   "nbconvert_exporter": "python",
   "pygments_lexer": "ipython3",
   "version": "3.8.6"
  },
  "toc": {
   "base_numbering": 1,
   "nav_menu": {},
   "number_sections": true,
   "sideBar": true,
   "skip_h1_title": false,
   "title_cell": "Table of Contents",
   "title_sidebar": "Contents",
   "toc_cell": false,
   "toc_position": {},
   "toc_section_display": true,
   "toc_window_display": false
  }
 },
 "nbformat": 4,
 "nbformat_minor": 5
}
